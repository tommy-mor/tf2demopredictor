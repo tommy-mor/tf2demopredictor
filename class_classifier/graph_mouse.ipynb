{
 "cells": [
  {
   "cell_type": "code",
   "execution_count": 1,
   "metadata": {},
   "outputs": [],
   "source": [
    "import torch"
   ]
  },
  {
   "cell_type": "code",
   "execution_count": 2,
   "metadata": {},
   "outputs": [],
   "source": [
    "f = open('file1.txt', 'r').read().splitlines()[1:]"
   ]
  },
  {
   "cell_type": "code",
   "execution_count": 3,
   "metadata": {},
   "outputs": [],
   "source": [
    "import numpy as np\n",
    "import pandas as pd\n",
    "data = pd.DataFrame([(int(x1), x2, float(x3), float(x4)) for (x1,x2,x3,x4) in (x.split(', ') for x in f)])"
   ]
  },
  {
   "cell_type": "code",
   "execution_count": 4,
   "metadata": {},
   "outputs": [],
   "source": [
    "from matplotlib import pyplot as plt\n",
    "#data.plot.scatter(x=0, y=3, s=[.01] * len(data))"
   ]
  },
  {
   "cell_type": "code",
   "execution_count": 5,
   "metadata": {},
   "outputs": [
    {
     "data": {
      "text/plain": [
       "({'other': 0,\n",
       "  'sniper': 1,\n",
       "  'scout': 2,\n",
       "  'engineer': 3,\n",
       "  'heavy': 4,\n",
       "  'pyro': 5,\n",
       "  'spy': 6,\n",
       "  'soldier': 7},\n",
       " {0: 'other',\n",
       "  1: 'sniper',\n",
       "  2: 'scout',\n",
       "  3: 'engineer',\n",
       "  4: 'heavy',\n",
       "  5: 'pyro',\n",
       "  6: 'spy',\n",
       "  7: 'soldier'})"
      ]
     },
     "execution_count": 5,
     "metadata": {},
     "output_type": "execute_result"
    }
   ],
   "source": [
    "classes = data[1].unique()\n",
    "ctoi = {c: i for i, c in enumerate(classes)}\n",
    "itoc = {i: c for i, c in enumerate(classes)}\n",
    "ctoi, itoc"
   ]
  },
  {
   "cell_type": "code",
   "execution_count": 6,
   "metadata": {},
   "outputs": [],
   "source": [
    "X = torch.tensor([data[2], data[3]]).float()\n",
    "\n",
    "#Y = torch.tensor([ctoi[c] for c in data[1]]).float()\n",
    "Y = torch.nn.functional.one_hot(torch.tensor([ctoi[c] for c in data[1]]), len(classes)).float()\n",
    "\n"
   ]
  },
  {
   "cell_type": "code",
   "execution_count": 131,
   "metadata": {},
   "outputs": [
    {
     "data": {
      "text/plain": [
       "tensor([1., 0., 0., 0., 0., 0., 0., 0.])"
      ]
     },
     "execution_count": 131,
     "metadata": {},
     "output_type": "execute_result"
    }
   ],
   "source": [
    "Y[1]"
   ]
  },
  {
   "cell_type": "code",
   "execution_count": 8,
   "metadata": {},
   "outputs": [
    {
     "data": {
      "text/plain": [
       "(torch.Size([2, 1337384]),\n",
       " torch.Size([1337384, 8]),\n",
       " torch.Size([2, 334346]),\n",
       " torch.Size([334346, 8]))"
      ]
     },
     "execution_count": 8,
     "metadata": {},
     "output_type": "execute_result"
    }
   ],
   "source": [
    "def split_data_batches(X, Y, ratio=0.8):\n",
    "    n = int(X.size(1) * ratio)\n",
    "    return (X[:, :n], Y[:n, :]), (X[:, n:], Y[n:, :])\n",
    "\n",
    "(X_train, Y_train), (X_test, Y_test) = split_data_batches(X, Y)\n",
    "\n",
    "X_train.shape, Y_train.shape, X_test.shape, Y_test.shape"
   ]
  },
  {
   "cell_type": "code",
   "execution_count": 9,
   "metadata": {},
   "outputs": [],
   "source": [
    "block_size = 66 * 5\n",
    "batch_size = 32\n",
    "\n",
    "# grab random blocks of data from the trainign set\n",
    "def get_time_series_batches(data, labels, batch_size, window_size):\n",
    "    num_samples = data.size(1)\n",
    "    num_windows = num_samples - window_size + 1\n",
    "    batch_indices = torch.randint(0, num_windows, (batch_size,))\n",
    "    xs = []\n",
    "    ys = []\n",
    "    for idx in batch_indices:\n",
    "        x = data[:, idx:idx+window_size].T\n",
    "        y = labels[idx:idx+window_size, :]\n",
    "\n",
    "        xs.append(x)\n",
    "        ys.append(y)\n",
    "        \n",
    "\n",
    "    return torch.stack(xs), torch.stack(ys)\n"
   ]
  },
  {
   "cell_type": "code",
   "execution_count": 152,
   "metadata": {},
   "outputs": [],
   "source": [
    "class Net(torch.nn.Module):\n",
    "    def __init__(self):\n",
    "        super(Net, self).__init__()\n",
    "        #self.fc2 = torch.nn.LSTM(block_size * 2, 50, 2, batch_first=True, bidirectional=True)\n",
    "        # expects B x C x T\n",
    "        self.fc1 = torch.nn.Conv1d(2, 20, 2)\n",
    "        # input, hidden, layers\n",
    "        self.fc2 = torch.nn.LSTM(329, 50, 2, batch_first=True, bidirectional=True)\n",
    "        self.fc3 = torch.nn.Linear(100, Y.shape[1])\n",
    "\n",
    "    def forward(self, x):\n",
    "        x = x.view(-1, 2, block_size)\n",
    "        #x = x.reshape(-1, block_size * 2)\n",
    "        x = self.fc1(x)\n",
    "        x = torch.relu(x)\n",
    "        x,_ = self.fc2(x)\n",
    "        x = torch.relu(x)\n",
    "        x = self.fc3(x)\n",
    "        return x\n",
    "    \n",
    "net = Net()\n",
    "loss = torch.nn.CrossEntropyLoss()\n",
    "optimizer = torch.optim.Adam(net.parameters(), lr=0.0001)"
   ]
  },
  {
   "cell_type": "code",
   "execution_count": 153,
   "metadata": {},
   "outputs": [],
   "source": [
    "losses = []\n",
    "validation_losses = []"
   ]
  },
  {
   "cell_type": "code",
   "execution_count": 154,
   "metadata": {},
   "outputs": [
    {
     "name": "stdout",
     "output_type": "stream",
     "text": [
      "Epoch 0: 2.990929365158081\n",
      "Epoch 100: 2.482746124267578\n",
      "Epoch 200: 1.4554895162582397\n",
      "Epoch 300: 0.9455971121788025\n",
      "Epoch 400: 0.6725643873214722\n",
      "Epoch 500: 0.5246593952178955\n",
      "Epoch 600: 0.4694969654083252\n",
      "Epoch 700: 0.4161537289619446\n",
      "Epoch 800: 0.3967111110687256\n",
      "Epoch 900: 0.3882862329483032\n"
     ]
    }
   ],
   "source": [
    "for epoch in range(1000):\n",
    "    optimizer.zero_grad()\n",
    "    X_batch, Y_batch = get_time_series_batches(X_train, Y_train, batch_size, block_size)\n",
    "    Y_pred = net(X_batch)\n",
    "    Y_batch = Y_batch[:, 0, :]\n",
    "    # print(Y_batch.shape, Y_pred.shape)\n",
    "    l = loss(Y_pred, Y_batch.long())\n",
    "    l.backward()\n",
    "    optimizer.step()\n",
    "    losses.append(l.item())\n",
    "    if epoch % 100 == 0:\n",
    "        print(f'Epoch {epoch}: {l.item()}')\n",
    "\n",
    "    with torch.no_grad():\n",
    "        X_batch, Y_batch = get_time_series_batches(X_test, Y_test, batch_size, block_size)\n",
    "        Y_pred = net(X_batch)\n",
    "        Y_batch = Y_batch[:, 0, :]\n",
    "        l = loss(Y_pred, Y_batch.long())\n",
    "        validation_losses.append(l.item())"
   ]
  },
  {
   "cell_type": "code",
   "execution_count": 155,
   "metadata": {},
   "outputs": [
    {
     "data": {
      "text/plain": [
       "[<matplotlib.lines.Line2D at 0x2b3aec650>]"
      ]
     },
     "execution_count": 155,
     "metadata": {},
     "output_type": "execute_result"
    },
    {
     "data": {
      "image/png": "[encoded data removed]",
      "text/plain": [
       "<Figure size 640x480 with 1 Axes>"
      ]
     },
     "metadata": {},
     "output_type": "display_data"
    }
   ],
   "source": [
    "plt.plot(torch.tensor(losses).view(-1,100).mean(dim=(1)), label='loss')\n",
    "plt.plot(torch.tensor(validation_losses).view(-1,100).mean(dim=(1)), label='vloss', color='red')"
   ]
  },
  {
   "cell_type": "code",
   "execution_count": 156,
   "metadata": {},
   "outputs": [
    {
     "name": "stdout",
     "output_type": "stream",
     "text": [
      "tensor([[[ 2.2371,  2.1100,  2.0141,  1.4864,  2.2269,  2.1316,  2.0266,\n",
      "           2.1610],\n",
      "         [ 1.6537, -0.6558,  0.4255, -1.0908, -0.8325, -0.6227, -0.4322,\n",
      "          -0.0463],\n",
      "         [-1.4517, -3.6887, -2.4562, -3.6747, -3.4430, -3.3192, -3.0809,\n",
      "          -2.7488],\n",
      "         [-2.1373, -4.2767, -3.1517, -4.3172, -3.9482, -3.9444, -3.6903,\n",
      "          -3.3818],\n",
      "         [-2.3254, -4.4425, -3.3369, -4.4852, -4.0642, -4.1314, -3.8084,\n",
      "          -3.5656],\n",
      "         [-2.4275, -4.5538, -3.4616, -4.5535, -4.1009, -4.2364, -3.8794,\n",
      "          -3.6553],\n",
      "         [-2.4401, -4.5697, -3.4848, -4.5659, -4.0993, -4.2527, -3.8790,\n",
      "          -3.6722],\n",
      "         [-2.4423, -4.5726, -3.4869, -4.5695, -4.1011, -4.2553, -3.8806,\n",
      "          -3.6750],\n",
      "         [-2.4429, -4.5737, -3.4877, -4.5709, -4.1018, -4.2565, -3.8808,\n",
      "          -3.6759],\n",
      "         [-2.4562, -4.5846, -3.4981, -4.6092, -4.1308, -4.2783, -3.9137,\n",
      "          -3.7052],\n",
      "         [-2.4758, -4.5883, -3.5055, -4.6679, -4.1715, -4.3046, -3.9600,\n",
      "          -3.7485],\n",
      "         [-2.4953, -4.5985, -3.5188, -4.7265, -4.2108, -4.3324, -4.0025,\n",
      "          -3.7927],\n",
      "         [-2.4945, -4.5946, -3.5157, -4.7320, -4.2134, -4.3327, -4.0066,\n",
      "          -3.7948],\n",
      "         [-2.4981, -4.5981, -3.5184, -4.7374, -4.2180, -4.3365, -4.0126,\n",
      "          -3.8003],\n",
      "         [-2.4918, -4.5897, -3.5125, -4.7364, -4.2134, -4.3306, -4.0069,\n",
      "          -3.7976],\n",
      "         [-2.4908, -4.5867, -3.5091, -4.7316, -4.2088, -4.3259, -4.0038,\n",
      "          -3.7951],\n",
      "         [-2.4809, -4.5729, -3.4960, -4.7133, -4.1930, -4.3088, -3.9881,\n",
      "          -3.7828],\n",
      "         [-2.4429, -4.5131, -3.4513, -4.6508, -4.1347, -4.2461, -3.9323,\n",
      "          -3.7321],\n",
      "         [-2.3495, -4.3371, -3.3299, -4.4916, -3.9704, -4.0721, -3.7963,\n",
      "          -3.6015],\n",
      "         [-2.0879, -3.7261, -2.9166, -3.9308, -3.3890, -3.4608, -3.3139,\n",
      "          -3.1470]]], grad_fn=<ViewBackward0>) tensor([[1., 0., 0., 0., 0., 0., 0., 0.]])\n",
      "tensor([[[ 2.2371,  2.1100,  2.0141,  1.4864,  2.2269,  2.1316,  2.0266,\n",
      "           2.1610],\n",
      "         [ 1.6537, -0.6558,  0.4255, -1.0908, -0.8325, -0.6227, -0.4322,\n",
      "          -0.0463],\n",
      "         [-1.4517, -3.6887, -2.4562, -3.6747, -3.4430, -3.3192, -3.0809,\n",
      "          -2.7488],\n",
      "         [-2.1373, -4.2767, -3.1517, -4.3172, -3.9482, -3.9444, -3.6903,\n",
      "          -3.3818],\n",
      "         [-2.3254, -4.4425, -3.3369, -4.4852, -4.0642, -4.1314, -3.8084,\n",
      "          -3.5656],\n",
      "         [-2.4275, -4.5538, -3.4616, -4.5535, -4.1009, -4.2364, -3.8794,\n",
      "          -3.6553],\n",
      "         [-2.4401, -4.5697, -3.4848, -4.5659, -4.0993, -4.2527, -3.8790,\n",
      "          -3.6722],\n",
      "         [-2.4423, -4.5726, -3.4869, -4.5695, -4.1011, -4.2553, -3.8806,\n",
      "          -3.6750],\n",
      "         [-2.4429, -4.5737, -3.4877, -4.5709, -4.1018, -4.2565, -3.8808,\n",
      "          -3.6759],\n",
      "         [-2.4562, -4.5846, -3.4981, -4.6092, -4.1308, -4.2783, -3.9137,\n",
      "          -3.7052],\n",
      "         [-2.4758, -4.5883, -3.5055, -4.6679, -4.1715, -4.3046, -3.9600,\n",
      "          -3.7485],\n",
      "         [-2.4953, -4.5985, -3.5188, -4.7265, -4.2108, -4.3324, -4.0025,\n",
      "          -3.7927],\n",
      "         [-2.4945, -4.5946, -3.5157, -4.7320, -4.2134, -4.3327, -4.0066,\n",
      "          -3.7948],\n",
      "         [-2.4981, -4.5981, -3.5184, -4.7374, -4.2180, -4.3365, -4.0126,\n",
      "          -3.8003],\n",
      "         [-2.4918, -4.5897, -3.5125, -4.7364, -4.2134, -4.3306, -4.0069,\n",
      "          -3.7976],\n",
      "         [-2.4908, -4.5867, -3.5091, -4.7316, -4.2088, -4.3259, -4.0038,\n",
      "          -3.7951],\n",
      "         [-2.4809, -4.5729, -3.4960, -4.7133, -4.1930, -4.3088, -3.9881,\n",
      "          -3.7828],\n",
      "         [-2.4429, -4.5131, -3.4513, -4.6508, -4.1347, -4.2461, -3.9323,\n",
      "          -3.7321],\n",
      "         [-2.3495, -4.3371, -3.3299, -4.4916, -3.9704, -4.0721, -3.7963,\n",
      "          -3.6015],\n",
      "         [-2.0879, -3.7261, -2.9166, -3.9308, -3.3890, -3.4608, -3.3139,\n",
      "          -3.1470]]], grad_fn=<ViewBackward0>) tensor([[1., 0., 0., 0., 0., 0., 0., 0.]])\n"
     ]
    }
   ],
   "source": [
    "#print(net(validation_x[1:2, :, :]), validation_y[1:2, 0, :])\n",
    "print(net(validation_x[1:2, :, :]), validation_y[1:2, 0, :])"
   ]
  },
  {
   "cell_type": "markdown",
   "metadata": {},
   "source": [
    "performance history\n",
    "####\n",
    "\n",
    "3 linear layers: loss: jittery around 1.1. valdiation loss: jittery around 0.6. single shot failed\n",
    "1 linear, 1 lstm, 1 linear: loss around 1.3 validation loss: jittery around 0.7, single shot works"
   ]
  }
 ],
 "metadata": {
  "kernelspec": {
   "display_name": "base",
   "language": "python",
   "name": "python3"
  },
  "language_info": {
   "codemirror_mode": {
    "name": "ipython",
    "version": 3
   },
   "file_extension": ".py",
   "mimetype": "text/x-python",
   "name": "python",
   "nbconvert_exporter": "python",
   "pygments_lexer": "ipython3",
   "version": "3.11.5"
  }
 },
 "nbformat": 4,
 "nbformat_minor": 2
}
