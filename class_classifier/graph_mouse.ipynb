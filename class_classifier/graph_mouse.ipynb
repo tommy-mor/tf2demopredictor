{
 "cells": [
  {
   "cell_type": "code",
   "execution_count": 3,
   "metadata": {},
   "outputs": [],
   "source": [
    "import torch"
   ]
  },
  {
   "cell_type": "code",
   "execution_count": 90,
   "metadata": {},
   "outputs": [],
   "source": [
    "import pandas as pd\n",
    "\n",
    "frames = []\n",
    "for f in ['file1.txt', 'file2.txt', 'file3.txt', 'file4.txt']:\n",
    "    frames.append(pd.read_csv(f, sep=',', header=None, skiprows=1))\n",
    "\n",
    "data = pd.concat(frames)"
   ]
  },
  {
   "cell_type": "code",
   "execution_count": null,
   "metadata": {},
   "outputs": [],
   "source": []
  },
  {
   "cell_type": "code",
   "execution_count": 91,
   "metadata": {},
   "outputs": [
    {
     "ename": "KeyboardInterrupt",
     "evalue": "",
     "output_type": "error",
     "traceback": [
      "\u001b[0;31m---------------------------------------------------------------------------\u001b[0m",
      "\u001b[0;31mKeyboardInterrupt\u001b[0m                         Traceback (most recent call last)",
      "Cell \u001b[0;32mIn[91], line 2\u001b[0m\n\u001b[1;32m      1\u001b[0m \u001b[38;5;28;01mfrom\u001b[39;00m \u001b[38;5;21;01mmatplotlib\u001b[39;00m \u001b[38;5;28;01mimport\u001b[39;00m pyplot \u001b[38;5;28;01mas\u001b[39;00m plt\n\u001b[0;32m----> 2\u001b[0m data\u001b[38;5;241m.\u001b[39mplot\u001b[38;5;241m.\u001b[39mscatter(x\u001b[38;5;241m=\u001b[39m\u001b[38;5;241m0\u001b[39m, y\u001b[38;5;241m=\u001b[39m\u001b[38;5;241m3\u001b[39m, s\u001b[38;5;241m=\u001b[39m[\u001b[38;5;241m.01\u001b[39m] \u001b[38;5;241m*\u001b[39m \u001b[38;5;28mlen\u001b[39m(data))\n",
      "File \u001b[0;32m/opt/homebrew/anaconda3/lib/python3.11/site-packages/pandas/plotting/_core.py:1674\u001b[0m, in \u001b[0;36mPlotAccessor.scatter\u001b[0;34m(self, x, y, s, c, **kwargs)\u001b[0m\n\u001b[1;32m   1591\u001b[0m \u001b[38;5;28;01mdef\u001b[39;00m \u001b[38;5;21mscatter\u001b[39m(\u001b[38;5;28mself\u001b[39m, x, y, s\u001b[38;5;241m=\u001b[39m\u001b[38;5;28;01mNone\u001b[39;00m, c\u001b[38;5;241m=\u001b[39m\u001b[38;5;28;01mNone\u001b[39;00m, \u001b[38;5;241m*\u001b[39m\u001b[38;5;241m*\u001b[39mkwargs) \u001b[38;5;241m-\u001b[39m\u001b[38;5;241m>\u001b[39m PlotAccessor:\n\u001b[1;32m   1592\u001b[0m \u001b[38;5;250m    \u001b[39m\u001b[38;5;124;03m\"\"\"\u001b[39;00m\n\u001b[1;32m   1593\u001b[0m \u001b[38;5;124;03m    Create a scatter plot with varying marker point size and color.\u001b[39;00m\n\u001b[1;32m   1594\u001b[0m \n\u001b[0;32m   (...)\u001b[0m\n\u001b[1;32m   1672\u001b[0m \u001b[38;5;124;03m        ...                       colormap='viridis')\u001b[39;00m\n\u001b[1;32m   1673\u001b[0m \u001b[38;5;124;03m    \"\"\"\u001b[39;00m\n\u001b[0;32m-> 1674\u001b[0m     \u001b[38;5;28;01mreturn\u001b[39;00m \u001b[38;5;28mself\u001b[39m(kind\u001b[38;5;241m=\u001b[39m\u001b[38;5;124m\"\u001b[39m\u001b[38;5;124mscatter\u001b[39m\u001b[38;5;124m\"\u001b[39m, x\u001b[38;5;241m=\u001b[39mx, y\u001b[38;5;241m=\u001b[39my, s\u001b[38;5;241m=\u001b[39ms, c\u001b[38;5;241m=\u001b[39mc, \u001b[38;5;241m*\u001b[39m\u001b[38;5;241m*\u001b[39mkwargs)\n",
      "File \u001b[0;32m/opt/homebrew/anaconda3/lib/python3.11/site-packages/pandas/plotting/_core.py:920\u001b[0m, in \u001b[0;36mPlotAccessor.__call__\u001b[0;34m(self, *args, **kwargs)\u001b[0m\n\u001b[1;32m    918\u001b[0m \u001b[38;5;28;01mif\u001b[39;00m kind \u001b[38;5;129;01min\u001b[39;00m \u001b[38;5;28mself\u001b[39m\u001b[38;5;241m.\u001b[39m_dataframe_kinds:\n\u001b[1;32m    919\u001b[0m     \u001b[38;5;28;01mif\u001b[39;00m \u001b[38;5;28misinstance\u001b[39m(data, ABCDataFrame):\n\u001b[0;32m--> 920\u001b[0m         \u001b[38;5;28;01mreturn\u001b[39;00m plot_backend\u001b[38;5;241m.\u001b[39mplot(data, x\u001b[38;5;241m=\u001b[39mx, y\u001b[38;5;241m=\u001b[39my, kind\u001b[38;5;241m=\u001b[39mkind, \u001b[38;5;241m*\u001b[39m\u001b[38;5;241m*\u001b[39mkwargs)\n\u001b[1;32m    921\u001b[0m     \u001b[38;5;28;01melse\u001b[39;00m:\n\u001b[1;32m    922\u001b[0m         \u001b[38;5;28;01mraise\u001b[39;00m \u001b[38;5;167;01mValueError\u001b[39;00m(\u001b[38;5;124mf\u001b[39m\u001b[38;5;124m\"\u001b[39m\u001b[38;5;124mplot kind \u001b[39m\u001b[38;5;132;01m{\u001b[39;00mkind\u001b[38;5;132;01m}\u001b[39;00m\u001b[38;5;124m can only be used for data frames\u001b[39m\u001b[38;5;124m\"\u001b[39m)\n",
      "File \u001b[0;32m/opt/homebrew/anaconda3/lib/python3.11/site-packages/pandas/plotting/_matplotlib/__init__.py:71\u001b[0m, in \u001b[0;36mplot\u001b[0;34m(data, kind, **kwargs)\u001b[0m\n\u001b[1;32m     69\u001b[0m         kwargs[\u001b[38;5;124m\"\u001b[39m\u001b[38;5;124max\u001b[39m\u001b[38;5;124m\"\u001b[39m] \u001b[38;5;241m=\u001b[39m \u001b[38;5;28mgetattr\u001b[39m(ax, \u001b[38;5;124m\"\u001b[39m\u001b[38;5;124mleft_ax\u001b[39m\u001b[38;5;124m\"\u001b[39m, ax)\n\u001b[1;32m     70\u001b[0m plot_obj \u001b[38;5;241m=\u001b[39m PLOT_CLASSES[kind](data, \u001b[38;5;241m*\u001b[39m\u001b[38;5;241m*\u001b[39mkwargs)\n\u001b[0;32m---> 71\u001b[0m plot_obj\u001b[38;5;241m.\u001b[39mgenerate()\n\u001b[1;32m     72\u001b[0m plot_obj\u001b[38;5;241m.\u001b[39mdraw()\n\u001b[1;32m     73\u001b[0m \u001b[38;5;28;01mreturn\u001b[39;00m plot_obj\u001b[38;5;241m.\u001b[39mresult\n",
      "File \u001b[0;32m/opt/homebrew/anaconda3/lib/python3.11/site-packages/pandas/plotting/_matplotlib/core.py:448\u001b[0m, in \u001b[0;36mMPLPlot.generate\u001b[0;34m(self)\u001b[0m\n\u001b[1;32m    446\u001b[0m \u001b[38;5;28mself\u001b[39m\u001b[38;5;241m.\u001b[39m_compute_plot_data()\n\u001b[1;32m    447\u001b[0m \u001b[38;5;28mself\u001b[39m\u001b[38;5;241m.\u001b[39m_setup_subplots()\n\u001b[0;32m--> 448\u001b[0m \u001b[38;5;28mself\u001b[39m\u001b[38;5;241m.\u001b[39m_make_plot()\n\u001b[1;32m    449\u001b[0m \u001b[38;5;28mself\u001b[39m\u001b[38;5;241m.\u001b[39m_add_table()\n\u001b[1;32m    450\u001b[0m \u001b[38;5;28mself\u001b[39m\u001b[38;5;241m.\u001b[39m_make_legend()\n",
      "File \u001b[0;32m/opt/homebrew/anaconda3/lib/python3.11/site-packages/pandas/plotting/_matplotlib/core.py:1258\u001b[0m, in \u001b[0;36mScatterPlot._make_plot\u001b[0;34m(self)\u001b[0m\n\u001b[1;32m   1256\u001b[0m \u001b[38;5;28;01melse\u001b[39;00m:\n\u001b[1;32m   1257\u001b[0m     label \u001b[38;5;241m=\u001b[39m \u001b[38;5;28;01mNone\u001b[39;00m\n\u001b[0;32m-> 1258\u001b[0m scatter \u001b[38;5;241m=\u001b[39m ax\u001b[38;5;241m.\u001b[39mscatter(\n\u001b[1;32m   1259\u001b[0m     data[x]\u001b[38;5;241m.\u001b[39mvalues,\n\u001b[1;32m   1260\u001b[0m     data[y]\u001b[38;5;241m.\u001b[39mvalues,\n\u001b[1;32m   1261\u001b[0m     c\u001b[38;5;241m=\u001b[39mc_values,\n\u001b[1;32m   1262\u001b[0m     label\u001b[38;5;241m=\u001b[39mlabel,\n\u001b[1;32m   1263\u001b[0m     cmap\u001b[38;5;241m=\u001b[39mcmap,\n\u001b[1;32m   1264\u001b[0m     norm\u001b[38;5;241m=\u001b[39mnorm,\n\u001b[1;32m   1265\u001b[0m     \u001b[38;5;241m*\u001b[39m\u001b[38;5;241m*\u001b[39m\u001b[38;5;28mself\u001b[39m\u001b[38;5;241m.\u001b[39mkwds,\n\u001b[1;32m   1266\u001b[0m )\n\u001b[1;32m   1267\u001b[0m \u001b[38;5;28;01mif\u001b[39;00m cb:\n\u001b[1;32m   1268\u001b[0m     cbar_label \u001b[38;5;241m=\u001b[39m c \u001b[38;5;28;01mif\u001b[39;00m c_is_column \u001b[38;5;28;01melse\u001b[39;00m \u001b[38;5;124m\"\u001b[39m\u001b[38;5;124m\"\u001b[39m\n",
      "File \u001b[0;32m/opt/homebrew/anaconda3/lib/python3.11/site-packages/matplotlib/__init__.py:1446\u001b[0m, in \u001b[0;36m_preprocess_data.<locals>.inner\u001b[0;34m(ax, data, *args, **kwargs)\u001b[0m\n\u001b[1;32m   1443\u001b[0m \u001b[38;5;129m@functools\u001b[39m\u001b[38;5;241m.\u001b[39mwraps(func)\n\u001b[1;32m   1444\u001b[0m \u001b[38;5;28;01mdef\u001b[39;00m \u001b[38;5;21minner\u001b[39m(ax, \u001b[38;5;241m*\u001b[39margs, data\u001b[38;5;241m=\u001b[39m\u001b[38;5;28;01mNone\u001b[39;00m, \u001b[38;5;241m*\u001b[39m\u001b[38;5;241m*\u001b[39mkwargs):\n\u001b[1;32m   1445\u001b[0m     \u001b[38;5;28;01mif\u001b[39;00m data \u001b[38;5;129;01mis\u001b[39;00m \u001b[38;5;28;01mNone\u001b[39;00m:\n\u001b[0;32m-> 1446\u001b[0m         \u001b[38;5;28;01mreturn\u001b[39;00m func(ax, \u001b[38;5;241m*\u001b[39m\u001b[38;5;28mmap\u001b[39m(sanitize_sequence, args), \u001b[38;5;241m*\u001b[39m\u001b[38;5;241m*\u001b[39mkwargs)\n\u001b[1;32m   1448\u001b[0m     bound \u001b[38;5;241m=\u001b[39m new_sig\u001b[38;5;241m.\u001b[39mbind(ax, \u001b[38;5;241m*\u001b[39margs, \u001b[38;5;241m*\u001b[39m\u001b[38;5;241m*\u001b[39mkwargs)\n\u001b[1;32m   1449\u001b[0m     auto_label \u001b[38;5;241m=\u001b[39m (bound\u001b[38;5;241m.\u001b[39marguments\u001b[38;5;241m.\u001b[39mget(label_namer)\n\u001b[1;32m   1450\u001b[0m                   \u001b[38;5;129;01mor\u001b[39;00m bound\u001b[38;5;241m.\u001b[39mkwargs\u001b[38;5;241m.\u001b[39mget(label_namer))\n",
      "File \u001b[0;32m/opt/homebrew/anaconda3/lib/python3.11/site-packages/matplotlib/axes/_axes.py:4583\u001b[0m, in \u001b[0;36mAxes.scatter\u001b[0;34m(self, x, y, s, c, marker, cmap, norm, vmin, vmax, alpha, linewidths, edgecolors, plotnonfinite, **kwargs)\u001b[0m\n\u001b[1;32m   4580\u001b[0m \u001b[38;5;28;01mif\u001b[39;00m s \u001b[38;5;129;01mis\u001b[39;00m \u001b[38;5;28;01mNone\u001b[39;00m:\n\u001b[1;32m   4581\u001b[0m     s \u001b[38;5;241m=\u001b[39m (\u001b[38;5;241m20\u001b[39m \u001b[38;5;28;01mif\u001b[39;00m mpl\u001b[38;5;241m.\u001b[39mrcParams[\u001b[38;5;124m'\u001b[39m\u001b[38;5;124m_internal.classic_mode\u001b[39m\u001b[38;5;124m'\u001b[39m] \u001b[38;5;28;01melse\u001b[39;00m\n\u001b[1;32m   4582\u001b[0m          mpl\u001b[38;5;241m.\u001b[39mrcParams[\u001b[38;5;124m'\u001b[39m\u001b[38;5;124mlines.markersize\u001b[39m\u001b[38;5;124m'\u001b[39m] \u001b[38;5;241m*\u001b[39m\u001b[38;5;241m*\u001b[39m \u001b[38;5;241m2.0\u001b[39m)\n\u001b[0;32m-> 4583\u001b[0m s \u001b[38;5;241m=\u001b[39m np\u001b[38;5;241m.\u001b[39mma\u001b[38;5;241m.\u001b[39mravel(s)\n\u001b[1;32m   4584\u001b[0m \u001b[38;5;28;01mif\u001b[39;00m (\u001b[38;5;28mlen\u001b[39m(s) \u001b[38;5;129;01mnot\u001b[39;00m \u001b[38;5;129;01min\u001b[39;00m (\u001b[38;5;241m1\u001b[39m, x\u001b[38;5;241m.\u001b[39msize) \u001b[38;5;129;01mor\u001b[39;00m\n\u001b[1;32m   4585\u001b[0m         (\u001b[38;5;129;01mnot\u001b[39;00m np\u001b[38;5;241m.\u001b[39missubdtype(s\u001b[38;5;241m.\u001b[39mdtype, np\u001b[38;5;241m.\u001b[39mfloating) \u001b[38;5;129;01mand\u001b[39;00m\n\u001b[1;32m   4586\u001b[0m          \u001b[38;5;129;01mnot\u001b[39;00m np\u001b[38;5;241m.\u001b[39missubdtype(s\u001b[38;5;241m.\u001b[39mdtype, np\u001b[38;5;241m.\u001b[39minteger))):\n\u001b[1;32m   4587\u001b[0m     \u001b[38;5;28;01mraise\u001b[39;00m \u001b[38;5;167;01mValueError\u001b[39;00m(\n\u001b[1;32m   4588\u001b[0m         \u001b[38;5;124m\"\u001b[39m\u001b[38;5;124ms must be a scalar, \u001b[39m\u001b[38;5;124m\"\u001b[39m\n\u001b[1;32m   4589\u001b[0m         \u001b[38;5;124m\"\u001b[39m\u001b[38;5;124mor float array-like with the same size as x and y\u001b[39m\u001b[38;5;124m\"\u001b[39m)\n",
      "File \u001b[0;32m/opt/homebrew/anaconda3/lib/python3.11/site-packages/numpy/ma/core.py:6852\u001b[0m, in \u001b[0;36m_frommethod.__call__\u001b[0;34m(self, a, *args, **params)\u001b[0m\n\u001b[1;32m   6849\u001b[0m     args \u001b[38;5;241m=\u001b[39m \u001b[38;5;28mlist\u001b[39m(args)\n\u001b[1;32m   6850\u001b[0m     a, args[\u001b[38;5;241m0\u001b[39m] \u001b[38;5;241m=\u001b[39m args[\u001b[38;5;241m0\u001b[39m], a\n\u001b[0;32m-> 6852\u001b[0m marr \u001b[38;5;241m=\u001b[39m asanyarray(a)\n\u001b[1;32m   6853\u001b[0m method_name \u001b[38;5;241m=\u001b[39m \u001b[38;5;28mself\u001b[39m\u001b[38;5;241m.\u001b[39m\u001b[38;5;18m__name__\u001b[39m\n\u001b[1;32m   6854\u001b[0m method \u001b[38;5;241m=\u001b[39m \u001b[38;5;28mgetattr\u001b[39m(\u001b[38;5;28mtype\u001b[39m(marr), method_name, \u001b[38;5;28;01mNone\u001b[39;00m)\n",
      "File \u001b[0;32m/opt/homebrew/anaconda3/lib/python3.11/site-packages/numpy/ma/core.py:8132\u001b[0m, in \u001b[0;36masanyarray\u001b[0;34m(a, dtype)\u001b[0m\n\u001b[1;32m   8130\u001b[0m \u001b[38;5;28;01mif\u001b[39;00m \u001b[38;5;28misinstance\u001b[39m(a, MaskedArray) \u001b[38;5;129;01mand\u001b[39;00m (dtype \u001b[38;5;129;01mis\u001b[39;00m \u001b[38;5;28;01mNone\u001b[39;00m \u001b[38;5;129;01mor\u001b[39;00m dtype \u001b[38;5;241m==\u001b[39m a\u001b[38;5;241m.\u001b[39mdtype):\n\u001b[1;32m   8131\u001b[0m     \u001b[38;5;28;01mreturn\u001b[39;00m a\n\u001b[0;32m-> 8132\u001b[0m \u001b[38;5;28;01mreturn\u001b[39;00m masked_array(a, dtype\u001b[38;5;241m=\u001b[39mdtype, copy\u001b[38;5;241m=\u001b[39m\u001b[38;5;28;01mFalse\u001b[39;00m, keep_mask\u001b[38;5;241m=\u001b[39m\u001b[38;5;28;01mTrue\u001b[39;00m, subok\u001b[38;5;241m=\u001b[39m\u001b[38;5;28;01mTrue\u001b[39;00m)\n",
      "File \u001b[0;32m/opt/homebrew/anaconda3/lib/python3.11/site-packages/numpy/ma/core.py:2859\u001b[0m, in \u001b[0;36mMaskedArray.__new__\u001b[0;34m(cls, data, mask, dtype, copy, subok, ndmin, fill_value, keep_mask, hard_mask, shrink, order)\u001b[0m\n\u001b[1;32m   2855\u001b[0m \u001b[38;5;28;01melif\u001b[39;00m \u001b[38;5;28misinstance\u001b[39m(data, (\u001b[38;5;28mtuple\u001b[39m, \u001b[38;5;28mlist\u001b[39m)):\n\u001b[1;32m   2856\u001b[0m     \u001b[38;5;28;01mtry\u001b[39;00m:\n\u001b[1;32m   2857\u001b[0m         \u001b[38;5;66;03m# If data is a sequence of masked array\u001b[39;00m\n\u001b[1;32m   2858\u001b[0m         mask \u001b[38;5;241m=\u001b[39m np\u001b[38;5;241m.\u001b[39marray(\n\u001b[0;32m-> 2859\u001b[0m             [getmaskarray(np\u001b[38;5;241m.\u001b[39masanyarray(m, dtype\u001b[38;5;241m=\u001b[39m_data\u001b[38;5;241m.\u001b[39mdtype))\n\u001b[1;32m   2860\u001b[0m              \u001b[38;5;28;01mfor\u001b[39;00m m \u001b[38;5;129;01min\u001b[39;00m data], dtype\u001b[38;5;241m=\u001b[39mmdtype)\n\u001b[1;32m   2861\u001b[0m     \u001b[38;5;28;01mexcept\u001b[39;00m \u001b[38;5;167;01mValueError\u001b[39;00m:\n\u001b[1;32m   2862\u001b[0m         \u001b[38;5;66;03m# If data is nested\u001b[39;00m\n\u001b[1;32m   2863\u001b[0m         mask \u001b[38;5;241m=\u001b[39m nomask\n",
      "File \u001b[0;32m/opt/homebrew/anaconda3/lib/python3.11/site-packages/numpy/ma/core.py:2859\u001b[0m, in \u001b[0;36m<listcomp>\u001b[0;34m(.0)\u001b[0m\n\u001b[1;32m   2855\u001b[0m \u001b[38;5;28;01melif\u001b[39;00m \u001b[38;5;28misinstance\u001b[39m(data, (\u001b[38;5;28mtuple\u001b[39m, \u001b[38;5;28mlist\u001b[39m)):\n\u001b[1;32m   2856\u001b[0m     \u001b[38;5;28;01mtry\u001b[39;00m:\n\u001b[1;32m   2857\u001b[0m         \u001b[38;5;66;03m# If data is a sequence of masked array\u001b[39;00m\n\u001b[1;32m   2858\u001b[0m         mask \u001b[38;5;241m=\u001b[39m np\u001b[38;5;241m.\u001b[39marray(\n\u001b[0;32m-> 2859\u001b[0m             [getmaskarray(np\u001b[38;5;241m.\u001b[39masanyarray(m, dtype\u001b[38;5;241m=\u001b[39m_data\u001b[38;5;241m.\u001b[39mdtype))\n\u001b[1;32m   2860\u001b[0m              \u001b[38;5;28;01mfor\u001b[39;00m m \u001b[38;5;129;01min\u001b[39;00m data], dtype\u001b[38;5;241m=\u001b[39mmdtype)\n\u001b[1;32m   2861\u001b[0m     \u001b[38;5;28;01mexcept\u001b[39;00m \u001b[38;5;167;01mValueError\u001b[39;00m:\n\u001b[1;32m   2862\u001b[0m         \u001b[38;5;66;03m# If data is nested\u001b[39;00m\n\u001b[1;32m   2863\u001b[0m         mask \u001b[38;5;241m=\u001b[39m nomask\n",
      "File \u001b[0;32m/opt/homebrew/anaconda3/lib/python3.11/site-packages/numpy/ma/core.py:1473\u001b[0m, in \u001b[0;36mgetmaskarray\u001b[0;34m(arr)\u001b[0m\n\u001b[1;32m   1471\u001b[0m mask \u001b[38;5;241m=\u001b[39m getmask(arr)\n\u001b[1;32m   1472\u001b[0m \u001b[38;5;28;01mif\u001b[39;00m mask \u001b[38;5;129;01mis\u001b[39;00m nomask:\n\u001b[0;32m-> 1473\u001b[0m     mask \u001b[38;5;241m=\u001b[39m make_mask_none(np\u001b[38;5;241m.\u001b[39mshape(arr), \u001b[38;5;28mgetattr\u001b[39m(arr, \u001b[38;5;124m'\u001b[39m\u001b[38;5;124mdtype\u001b[39m\u001b[38;5;124m'\u001b[39m, \u001b[38;5;28;01mNone\u001b[39;00m))\n\u001b[1;32m   1474\u001b[0m \u001b[38;5;28;01mreturn\u001b[39;00m mask\n",
      "File \u001b[0;32m/opt/homebrew/anaconda3/lib/python3.11/site-packages/numpy/ma/core.py:1644\u001b[0m, in \u001b[0;36mmake_mask_none\u001b[0;34m(newshape, dtype)\u001b[0m\n\u001b[1;32m   1640\u001b[0m         result \u001b[38;5;241m=\u001b[39m _shrink_mask(result)\n\u001b[1;32m   1641\u001b[0m     \u001b[38;5;28;01mreturn\u001b[39;00m result\n\u001b[0;32m-> 1644\u001b[0m \u001b[38;5;28;01mdef\u001b[39;00m \u001b[38;5;21mmake_mask_none\u001b[39m(newshape, dtype\u001b[38;5;241m=\u001b[39m\u001b[38;5;28;01mNone\u001b[39;00m):\n\u001b[1;32m   1645\u001b[0m \u001b[38;5;250m    \u001b[39m\u001b[38;5;124;03m\"\"\"\u001b[39;00m\n\u001b[1;32m   1646\u001b[0m \u001b[38;5;124;03m    Return a boolean mask of the given shape, filled with False.\u001b[39;00m\n\u001b[1;32m   1647\u001b[0m \n\u001b[0;32m   (...)\u001b[0m\n\u001b[1;32m   1685\u001b[0m \n\u001b[1;32m   1686\u001b[0m \u001b[38;5;124;03m    \"\"\"\u001b[39;00m\n\u001b[1;32m   1687\u001b[0m     \u001b[38;5;28;01mif\u001b[39;00m dtype \u001b[38;5;129;01mis\u001b[39;00m \u001b[38;5;28;01mNone\u001b[39;00m:\n",
      "\u001b[0;31mKeyboardInterrupt\u001b[0m: "
     ]
    },
    {
     "data": {
      "image/png": "[encoded data removed]",
      "text/plain": [
       "<Figure size 640x480 with 1 Axes>"
      ]
     },
     "metadata": {},
     "output_type": "display_data"
    }
   ],
   "source": [
    "from matplotlib import pyplot as plt\n",
    "data.plot.scatter(x=0, y=3, s=[.01] * len(data))"
   ]
  },
  {
   "cell_type": "code",
   "execution_count": 92,
   "metadata": {},
   "outputs": [
    {
     "data": {
      "text/plain": [
       "({' sniper': 0,\n",
       "  ' scout': 1,\n",
       "  ' engineer': 2,\n",
       "  ' heavy': 3,\n",
       "  ' pyro': 4,\n",
       "  ' spy': 5,\n",
       "  ' soldier': 6,\n",
       "  ' medic': 7,\n",
       "  ' demoman': 8},\n",
       " {0: ' sniper',\n",
       "  1: ' scout',\n",
       "  2: ' engineer',\n",
       "  3: ' heavy',\n",
       "  4: ' pyro',\n",
       "  5: ' spy',\n",
       "  6: ' soldier',\n",
       "  7: ' medic',\n",
       "  8: ' demoman'})"
      ]
     },
     "execution_count": 92,
     "metadata": {},
     "output_type": "execute_result"
    }
   ],
   "source": [
    "#X = torch.tensor([data[2], data[3]]).float()\n",
    "data = data[data[1] != ' other']\n",
    "\n",
    "classes = data[1].unique()\n",
    "ctoi = {c: i for i, c in enumerate(classes)}\n",
    "itoc = {i: c for i, c in enumerate(classes)}\n",
    "\n",
    "X = torch.tensor(data[[2, 3]].values).float()\n",
    "\n",
    "#Y = torch.tensor([ctoi[c] for c in data[1]]).float()\n",
    "Y = torch.nn.functional.one_hot(torch.tensor([ctoi[c] for c in data[1]]), len(classes)).float()\n",
    "ctoi, itoc"
   ]
  },
  {
   "cell_type": "code",
   "execution_count": 93,
   "metadata": {},
   "outputs": [
    {
     "data": {
      "text/plain": [
       "(torch.Size([1485239, 2]), torch.Size([1485239, 9]))"
      ]
     },
     "execution_count": 93,
     "metadata": {},
     "output_type": "execute_result"
    }
   ],
   "source": [
    "X.shape, Y.shape"
   ]
  },
  {
   "cell_type": "code",
   "execution_count": 94,
   "metadata": {},
   "outputs": [
    {
     "data": {
      "text/plain": [
       "(tensor([[0., 0., 0., 0., 0., 0., 0., 0., 1.],\n",
       "         [0., 0., 0., 0., 0., 0., 0., 1., 0.],\n",
       "         [0., 0., 0., 0., 0., 0., 1., 0., 0.],\n",
       "         [0., 0., 0., 0., 0., 1., 0., 0., 0.],\n",
       "         [0., 0., 0., 0., 1., 0., 0., 0., 0.],\n",
       "         [0., 0., 0., 1., 0., 0., 0., 0., 0.],\n",
       "         [0., 0., 1., 0., 0., 0., 0., 0., 0.],\n",
       "         [0., 1., 0., 0., 0., 0., 0., 0., 0.],\n",
       "         [1., 0., 0., 0., 0., 0., 0., 0., 0.]]),\n",
       " tensor([ 36663,  36681, 375190,  51266,  21307,  44628,  23479, 853244,  42781]))"
      ]
     },
     "execution_count": 94,
     "metadata": {},
     "output_type": "execute_result"
    }
   ],
   "source": [
    "# historgram of Y\n",
    "Y.unique(dim=0,return_counts=True)"
   ]
  },
  {
   "cell_type": "code",
   "execution_count": null,
   "metadata": {},
   "outputs": [],
   "source": []
  },
  {
   "cell_type": "code",
   "execution_count": null,
   "metadata": {},
   "outputs": [],
   "source": []
  },
  {
   "cell_type": "code",
   "execution_count": 95,
   "metadata": {},
   "outputs": [
    {
     "data": {
      "text/plain": [
       "(torch.Size([1188191, 2]),\n",
       " torch.Size([1188191, 9]),\n",
       " torch.Size([297048, 2]),\n",
       " torch.Size([297048, 9]))"
      ]
     },
     "execution_count": 95,
     "metadata": {},
     "output_type": "execute_result"
    }
   ],
   "source": [
    "def split_data_batches(X, Y, ratio=0.8):\n",
    "    n = int(X.size(0) * ratio)\n",
    "    return (X[:n, :], Y[:n, :]), (X[n:, :], Y[n:, :])\n",
    "\n",
    "(X_train, Y_train), (X_test, Y_test) = split_data_batches(X, Y)\n",
    "\n",
    "X_train.shape, Y_train.shape, X_test.shape, Y_test.shape"
   ]
  },
  {
   "cell_type": "code",
   "execution_count": 96,
   "metadata": {},
   "outputs": [],
   "source": [
    "block_size = 66 * 10\n",
    "batch_size = 256\n",
    "\n",
    "# grab random blocks of data from the training set\n",
    "def get_time_series_batches(data, labels, batch_size, window_size):\n",
    "    num_samples = data.size(0)\n",
    "    num_windows = num_samples - window_size + 1\n",
    "    batch_indices = torch.randint(0, num_windows, (batch_size,))\n",
    "    xs = []\n",
    "    ys = []\n",
    "    for idx in batch_indices:\n",
    "        x = data[idx:idx+window_size, :]\n",
    "        y = labels[idx:idx+window_size, :]\n",
    "\n",
    "        xs.append(x)\n",
    "        ys.append(y)\n",
    "        \n",
    "\n",
    "    return torch.stack(xs), torch.stack(ys)\n"
   ]
  },
  {
   "cell_type": "code",
   "execution_count": 106,
   "metadata": {},
   "outputs": [],
   "source": [
    "class Net(torch.nn.Module):\n",
    "    def __init__(self):\n",
    "        super(Net, self).__init__()\n",
    "        #self.fc2 = torch.nn.LSTM(block_size * 2, 50, 2, batch_first=True, bidirectional=True)\n",
    "        # expects B x C x T\n",
    "        self.fc1 = torch.nn.Conv1d(2, 5, 10)\n",
    "        self.con2 = torch.nn.Conv1d(5, 10, 10)\n",
    "        self.con3 = torch.nn.Conv1d(10, 1, 10)\n",
    "        # input, hidden, layers\n",
    "        self.fc2 = torch.nn.LSTM(559, 200, 4, batch_first=True, bidirectional=False)\n",
    "        self.fc3 = torch.nn.Linear(200, 50)\n",
    "        self.fc4 = torch.nn.Linear(50, Y.shape[1])\n",
    "        #self.last = torch.nn.Softmax()\n",
    "\n",
    "    def forward(self, x):\n",
    "        x = x.view(-1, 2, block_size)\n",
    "        #x = x.reshape(-1, block_size * 2)\n",
    "        x = self.fc1(x)\n",
    "        x = torch.relu(x)\n",
    "        x = self.con2(x)\n",
    "        x = torch.relu(x)\n",
    "        x = self.con3(x)\n",
    "\n",
    "        # x = torch.squeeze(x, dim=1)\n",
    "        x = torch.relu(x)\n",
    "        x,_ = self.fc2(x)\n",
    "        x = torch.relu(x)\n",
    "        x = torch.relu(self.fc3(x))\n",
    "        x = self.fc4(x)\n",
    "        #x = self.last(x)\n",
    "        return x\n",
    "    \n",
    "net = Net()\n",
    "loss = torch.nn.CrossEntropyLoss()\n",
    "optimizer = torch.optim.Adam(net.parameters(), lr=0.0001)"
   ]
  },
  {
   "cell_type": "code",
   "execution_count": 107,
   "metadata": {},
   "outputs": [],
   "source": [
    "losses = []\n",
    "validation_losses = []"
   ]
  },
  {
   "cell_type": "code",
   "execution_count": 125,
   "metadata": {},
   "outputs": [
    {
     "name": "stdout",
     "output_type": "stream",
     "text": [
      "Epoch 0: 2.2041046619415283\n",
      "Epoch 100: 1.1010807752609253\n",
      "Epoch 200: 1.1913522481918335\n",
      "Epoch 300: 0.9841247797012329\n",
      "Epoch 400: 1.037317156791687\n",
      "Epoch 500: 1.1043790578842163\n",
      "Epoch 600: 0.9297835230827332\n",
      "Epoch 700: 1.0683326721191406\n",
      "Epoch 800: 0.9884139895439148\n",
      "Epoch 900: 1.1611707210540771\n"
     ]
    }
   ],
   "source": [
    "optimizer.lr = 0.001\n",
    "for epoch in range(1000):\n",
    "    optimizer.zero_grad()\n",
    "    X_batch, Y_batch = get_time_series_batches(X_train, Y_train, batch_size, block_size)\n",
    "    Y_pred = net(X_batch)\n",
    "    Y_batch = Y_batch[:, -1, :]\n",
    "   # print(Y_batch.shape, Y_pred.shape)\n",
    "    Y_pred = Y_pred.view(-1, Y.shape[1])\n",
    "\n",
    "    \n",
    "    l = loss(Y_pred, Y_batch)\n",
    "    l.backward()\n",
    "    optimizer.step()\n",
    "    losses.append(l.item())\n",
    "    if epoch % 100 == 0:\n",
    "        print(f'Epoch {epoch}: {l.item()}')\n",
    "\n",
    "    with torch.no_grad():\n",
    "        X_batch, Y_batch = get_time_series_batches(X_test, Y_test, batch_size, block_size)\n",
    "        Y_pred = net(X_batch)\n",
    "       # print(Y_pred.shape, Y_batch.shape)\n",
    "        Y_pred = Y_pred.view(-1, Y.shape[1])\n",
    "        Y_batch = Y_batch[:, -1, :].squeeze(1)\n",
    "        #print(Y_pred.shape, Y_batch.shape)\n",
    "\n",
    "        #Y_batch = Y_batch[:, 0, :]\n",
    "        l = loss(Y_pred, Y_batch)\n",
    "        validation_losses.append(l.item())"
   ]
  },
  {
   "cell_type": "code",
   "execution_count": 126,
   "metadata": {},
   "outputs": [
    {
     "data": {
      "text/plain": [
       "[<matplotlib.lines.Line2D at 0x2b395e0d0>]"
      ]
     },
     "execution_count": 126,
     "metadata": {},
     "output_type": "execute_result"
    },
    {
     "data": {
      "image/png": "[encoded data removed]",
      "text/plain": [
       "<Figure size 640x480 with 1 Axes>"
      ]
     },
     "metadata": {},
     "output_type": "display_data"
    }
   ],
   "source": [
    "from matplotlib import pyplot as plt\n",
    "plt.plot(torch.tensor(losses).view(-1,1).mean(dim=(1)), label='loss')\n",
    "plt.plot(torch.tensor(validation_losses).view(-1,1).mean(dim=(1)), label='vloss', color='red')"
   ]
  },
  {
   "cell_type": "code",
   "execution_count": 127,
   "metadata": {},
   "outputs": [
    {
     "name": "stdout",
     "output_type": "stream",
     "text": [
      "tensor([[[-0.0631,  2.9097, -1.0965, -0.4032, -1.2008, -0.4645,  1.9833,\n",
      "          -3.1569, -3.3683]]], grad_fn=<ViewBackward0>)\n",
      "tensor([[0., 0., 0., 0., 0., 0., 0., 0., 1.]])\n"
     ]
    }
   ],
   "source": [
    "#print(net(validation_x[1:2, :, :]), validation_y[1:2, 0, :])\n",
    "print(net(validation_x[1:2, :, :]))\n",
    "print(validation_y[1:2, 0, :])"
   ]
  },
  {
   "cell_type": "code",
   "execution_count": null,
   "metadata": {},
   "outputs": [],
   "source": []
  },
  {
   "cell_type": "markdown",
   "metadata": {},
   "source": [
    "performance history\n",
    "####\n",
    "\n",
    "  * 3 linear layers: loss: jittery around 1.1. valdiation loss: jittery around 0.6. single shot failed\n",
    "  * 1 linear, 1 lstm, 1 linear: loss around 1.3 validation loss: jittery around 0.7, single shot works\n",
    "  * 1 conv1d, 1lstm, 1 linear: loss around 0.6, validation loss: around 0.6, single shot\n",
    "  * 1 conv2d (flattened), 1lstm, 1linear, 1softmax: loss around 1.8, validation loss 1.3. 50% training success\n",
    "  * 1 conv2d, 1 lstm, 1 linear, loss around 0.2, validation loss 0.2, 80% training success\n",
    "  * 1 conv2d(5), 1 lstm, 1 linear, loss around 0.2, validation loss 0.2, 80% training success\n",
    "  * 1 conv2d(20), 1 lstm, 1 linear, loss around 0.2, validation loss 0.2, 70% training success\n",
    "  * 1 conv2d(3), 1 lstm(200, 2), 1 linear, loss around 0.2, validation loss 0.2, 70% training success"
   ]
  },
  {
   "cell_type": "code",
   "execution_count": 129,
   "metadata": {},
   "outputs": [
    {
     "name": "stdout",
     "output_type": "stream",
     "text": [
      "torch.Size([10000, 660, 2]) torch.Size([10000, 660, 9])\n",
      "torch.Size([10000, 1, 9])\n",
      "0.6387\n"
     ]
    },
    {
     "ename": "IndexError",
     "evalue": "index 1 is out of bounds for dimension 0 with size 1",
     "output_type": "error",
     "traceback": [
      "\u001b[0;31m---------------------------------------------------------------------------\u001b[0m",
      "\u001b[0;31mIndexError\u001b[0m                                Traceback (most recent call last)",
      "Cell \u001b[0;32mIn[129], line 13\u001b[0m\n\u001b[1;32m     11\u001b[0m corect \u001b[38;5;241m=\u001b[39m \u001b[38;5;241m0\u001b[39m\n\u001b[1;32m     12\u001b[0m \u001b[38;5;28;01mfor\u001b[39;00m sample \u001b[38;5;129;01min\u001b[39;00m \u001b[38;5;28mrange\u001b[39m(n_samples):\n\u001b[0;32m---> 13\u001b[0m     pred \u001b[38;5;241m=\u001b[39m Y_pred[sample][conv]\u001b[38;5;241m.\u001b[39margmax()\n\u001b[1;32m     14\u001b[0m     val \u001b[38;5;241m=\u001b[39m validation_y[sample, conv, :]\u001b[38;5;241m.\u001b[39margmax()\n\u001b[1;32m     15\u001b[0m     \u001b[38;5;66;03m#print(pred, val)\u001b[39;00m\n",
      "\u001b[0;31mIndexError\u001b[0m: index 1 is out of bounds for dimension 0 with size 1"
     ]
    }
   ],
   "source": [
    "# validation_set percent right prediction\n",
    "\n",
    "with torch.no_grad():\n",
    "    n_samples = 10000\n",
    "    validation_x, validation_y = get_time_series_batches(X_train, Y_train, n_samples, block_size)\n",
    "    #validation_x, validation_y = get_time_series_batches(X_test, Y_test, n_samples, block_size)\n",
    "    print(validation_x.shape, validation_y.shape)\n",
    "    Y_pred = net(validation_x)\n",
    "    print(Y_pred.shape)\n",
    "    for conv in range(5):\n",
    "        corect = 0\n",
    "        for sample in range(n_samples):\n",
    "            pred = Y_pred[sample][conv].argmax()\n",
    "            val = validation_y[sample, conv, :].argmax()\n",
    "            #print(pred, val)\n",
    "            if pred == val:\n",
    "                corect += 1\n",
    "            #Y_true = torch.argmax(validation_y[:, :, :], dim=2)\n",
    "            #print(Y_true)\n",
    "        print(corect / n_samples)\n",
    "    print(Y_pred.argmax(dim=1).unique())"
   ]
  },
  {
   "cell_type": "code",
   "execution_count": null,
   "metadata": {},
   "outputs": [],
   "source": []
  },
  {
   "cell_type": "code",
   "execution_count": 377,
   "metadata": {},
   "outputs": [
    {
     "name": "stdout",
     "output_type": "stream",
     "text": [
      "{0, 1, 2, 3, 4, 5, 6, 7}\n"
     ]
    }
   ],
   "source": [
    "argmaxes = set()\n",
    "for x in Y_train:\n",
    "    argmaxes.add(x.argmax().item())\n",
    "print(argmaxes)"
   ]
  },
  {
   "cell_type": "code",
   "execution_count": 806,
   "metadata": {},
   "outputs": [
    {
     "data": {
      "text/plain": [
       "0.012345679012345678"
      ]
     },
     "execution_count": 806,
     "metadata": {},
     "output_type": "execute_result"
    }
   ],
   "source": [
    "1/ (9 * 9)"
   ]
  }
 ],
 "metadata": {
  "kernelspec": {
   "display_name": "base",
   "language": "python",
   "name": "python3"
  },
  "language_info": {
   "codemirror_mode": {
    "name": "ipython",
    "version": 3
   },
   "file_extension": ".py",
   "mimetype": "text/x-python",
   "name": "python",
   "nbconvert_exporter": "python",
   "pygments_lexer": "ipython3",
   "version": "3.11.5"
  }
 },
 "nbformat": 4,
 "nbformat_minor": 2
}
