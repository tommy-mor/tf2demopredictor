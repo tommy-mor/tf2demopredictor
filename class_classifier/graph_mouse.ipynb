{
 "cells": [
  {
   "cell_type": "code",
   "execution_count": 1,
   "metadata": {},
   "outputs": [],
   "source": [
    "import torch"
   ]
  },
  {
   "cell_type": "code",
   "execution_count": 2,
   "metadata": {},
   "outputs": [],
   "source": [
    "f = open('file1.txt', 'r').read().splitlines()[1:]"
   ]
  },
  {
   "cell_type": "code",
   "execution_count": 3,
   "metadata": {},
   "outputs": [],
   "source": [
    "import numpy as np\n",
    "import pandas as pd\n",
    "data = pd.DataFrame([(int(x1), x2, float(x3), float(x4)) for (x1,x2,x3,x4) in (x.split(', ') for x in f)])"
   ]
  },
  {
   "cell_type": "code",
   "execution_count": 4,
   "metadata": {},
   "outputs": [],
   "source": [
    "from matplotlib import pyplot as plt\n",
    "#data.plot.scatter(x=0, y=3, s=[.01] * len(data))"
   ]
  },
  {
   "cell_type": "code",
   "execution_count": 5,
   "metadata": {},
   "outputs": [
    {
     "data": {
      "text/plain": [
       "({'other': 0,\n",
       "  'sniper': 1,\n",
       "  'scout': 2,\n",
       "  'engineer': 3,\n",
       "  'heavy': 4,\n",
       "  'pyro': 5,\n",
       "  'spy': 6,\n",
       "  'soldier': 7},\n",
       " {0: 'other',\n",
       "  1: 'sniper',\n",
       "  2: 'scout',\n",
       "  3: 'engineer',\n",
       "  4: 'heavy',\n",
       "  5: 'pyro',\n",
       "  6: 'spy',\n",
       "  7: 'soldier'})"
      ]
     },
     "execution_count": 5,
     "metadata": {},
     "output_type": "execute_result"
    }
   ],
   "source": [
    "classes = data[1].unique()\n",
    "ctoi = {c: i for i, c in enumerate(classes)}\n",
    "itoc = {i: c for i, c in enumerate(classes)}\n",
    "ctoi, itoc"
   ]
  },
  {
   "cell_type": "code",
   "execution_count": 6,
   "metadata": {},
   "outputs": [],
   "source": [
    "X = torch.tensor([data[2], data[3]]).float()\n",
    "\n",
    "#Y = torch.tensor([ctoi[c] for c in data[1]]).float()\n",
    "Y = torch.nn.functional.one_hot(torch.tensor([ctoi[c] for c in data[1]]), len(classes)).float()\n",
    "\n"
   ]
  },
  {
   "cell_type": "code",
   "execution_count": 131,
   "metadata": {},
   "outputs": [
    {
     "data": {
      "text/plain": [
       "tensor([1., 0., 0., 0., 0., 0., 0., 0.])"
      ]
     },
     "execution_count": 131,
     "metadata": {},
     "output_type": "execute_result"
    }
   ],
   "source": [
    "Y[1]"
   ]
  },
  {
   "cell_type": "code",
   "execution_count": 8,
   "metadata": {},
   "outputs": [
    {
     "data": {
      "text/plain": [
       "(torch.Size([2, 1337384]),\n",
       " torch.Size([1337384, 8]),\n",
       " torch.Size([2, 334346]),\n",
       " torch.Size([334346, 8]))"
      ]
     },
     "execution_count": 8,
     "metadata": {},
     "output_type": "execute_result"
    }
   ],
   "source": [
    "def split_data_batches(X, Y, ratio=0.8):\n",
    "    n = int(X.size(1) * ratio)\n",
    "    return (X[:, :n], Y[:n, :]), (X[:, n:], Y[n:, :])\n",
    "\n",
    "(X_train, Y_train), (X_test, Y_test) = split_data_batches(X, Y)\n",
    "\n",
    "X_train.shape, Y_train.shape, X_test.shape, Y_test.shape"
   ]
  },
  {
   "cell_type": "code",
   "execution_count": 255,
   "metadata": {},
   "outputs": [],
   "source": [
    "block_size = 66 * 5\n",
    "batch_size = 32\n",
    "\n",
    "# grab random blocks of data from the training set\n",
    "def get_time_series_batches(data, labels, batch_size, window_size):\n",
    "    num_samples = data.size(1)\n",
    "    num_windows = num_samples - window_size + 1\n",
    "    batch_indices = torch.randint(0, num_windows, (batch_size,))\n",
    "    xs = []\n",
    "    ys = []\n",
    "    for idx in batch_indices:\n",
    "        x = data[:, idx:idx+window_size].T\n",
    "        y = labels[idx:idx+window_size, :]\n",
    "\n",
    "        xs.append(x)\n",
    "        ys.append(y)\n",
    "        \n",
    "\n",
    "    return torch.stack(xs), torch.stack(ys)\n"
   ]
  },
  {
   "cell_type": "code",
   "execution_count": 341,
   "metadata": {},
   "outputs": [],
   "source": [
    "class Net(torch.nn.Module):\n",
    "    def __init__(self):\n",
    "        super(Net, self).__init__()\n",
    "        #self.fc2 = torch.nn.LSTM(block_size * 2, 50, 2, batch_first=True, bidirectional=True)\n",
    "        # expects B x C x T\n",
    "        self.fc1 = torch.nn.Conv1d(2, 20, 2)\n",
    "        # input, hidden, layers\n",
    "        self.fc2 = torch.nn.LSTM(329, 50, 2, batch_first=True, bidirectional=True)\n",
    "        self.fc3 = torch.nn.Linear(100, Y.shape[1])\n",
    "        #self.last = torch.nn.Softmax()\n",
    "\n",
    "    def forward(self, x):\n",
    "        x = x.view(-1, 2, block_size)\n",
    "        #x = x.reshape(-1, block_size * 2)\n",
    "        x = self.fc1(x)\n",
    "        # x = torch.squeeze(x, dim=1)\n",
    "        x = torch.relu(x)\n",
    "        x,_ = self.fc2(x)\n",
    "        x = torch.relu(x)\n",
    "        x = self.fc3(x)\n",
    "        #x = self.last(x)\n",
    "        return x\n",
    "    \n",
    "net = Net()\n",
    "loss = torch.nn.CrossEntropyLoss()\n",
    "optimizer = torch.optim.Adam(net.parameters(), lr=0.0001)"
   ]
  },
  {
   "cell_type": "code",
   "execution_count": 339,
   "metadata": {},
   "outputs": [],
   "source": [
    "losses = []\n",
    "validation_losses = []"
   ]
  },
  {
   "cell_type": "code",
   "execution_count": 342,
   "metadata": {},
   "outputs": [
    {
     "name": "stdout",
     "output_type": "stream",
     "text": [
      "Epoch 0: 2.9748425483703613\n",
      "Epoch 100: 2.345395565032959\n",
      "Epoch 200: 1.3516733646392822\n",
      "Epoch 300: 0.8310291171073914\n",
      "Epoch 400: 0.5629404187202454\n",
      "Epoch 500: 0.4444054663181305\n",
      "Epoch 600: 0.39668765664100647\n",
      "Epoch 700: 0.3804859519004822\n",
      "Epoch 800: 0.3485305607318878\n",
      "Epoch 900: 0.326789915561676\n"
     ]
    }
   ],
   "source": [
    "optimizer.lr = 0.001\n",
    "for epoch in range(1000):\n",
    "    optimizer.zero_grad()\n",
    "    X_batch, Y_batch = get_time_series_batches(X_train, Y_train, batch_size, block_size)\n",
    "    Y_pred = net(X_batch)\n",
    "    Y_batch = Y_batch[:, 0, :]\n",
    "    #print(Y_batch.shape, Y_pred.shape)\n",
    "    \n",
    "    l = loss(Y_pred, Y_batch.long())\n",
    "    l.backward()\n",
    "    optimizer.step()\n",
    "    losses.append(l.item())\n",
    "    if epoch % 100 == 0:\n",
    "        print(f'Epoch {epoch}: {l.item()}')\n",
    "\n",
    "    with torch.no_grad():\n",
    "        X_batch, Y_batch = get_time_series_batches(X_test, Y_test, batch_size, block_size)\n",
    "        Y_pred = net(X_batch)\n",
    "        Y_batch = Y_batch[:, 0, :]\n",
    "        l = loss(Y_pred, Y_batch.long())\n",
    "        validation_losses.append(l.item())"
   ]
  },
  {
   "cell_type": "code",
   "execution_count": null,
   "metadata": {},
   "outputs": [],
   "source": []
  },
  {
   "cell_type": "code",
   "execution_count": 343,
   "metadata": {},
   "outputs": [
    {
     "data": {
      "text/plain": [
       "[<matplotlib.lines.Line2D at 0x2b7dbbcd0>]"
      ]
     },
     "execution_count": 343,
     "metadata": {},
     "output_type": "execute_result"
    },
    {
     "data": {
      "image/png": "[encoded data removed]",
      "text/plain": [
       "<Figure size 640x480 with 1 Axes>"
      ]
     },
     "metadata": {},
     "output_type": "display_data"
    }
   ],
   "source": [
    "plt.plot(torch.tensor(losses).view(-1,1).mean(dim=(1)), label='loss')\n",
    "plt.plot(torch.tensor(validation_losses).view(-1,1).mean(dim=(1)), label='vloss', color='red')"
   ]
  },
  {
   "cell_type": "code",
   "execution_count": null,
   "metadata": {},
   "outputs": [],
   "source": []
  },
  {
   "cell_type": "code",
   "execution_count": null,
   "metadata": {},
   "outputs": [],
   "source": []
  },
  {
   "cell_type": "code",
   "execution_count": null,
   "metadata": {},
   "outputs": [],
   "source": []
  },
  {
   "cell_type": "code",
   "execution_count": null,
   "metadata": {},
   "outputs": [],
   "source": []
  },
  {
   "cell_type": "code",
   "execution_count": 344,
   "metadata": {},
   "outputs": [
    {
     "name": "stdout",
     "output_type": "stream",
     "text": [
      "tensor([[[ 2.7477,  2.7865,  2.5556,  2.7425,  3.0261,  2.8458,  3.5156,\n",
      "           2.7173],\n",
      "         [ 2.7902,  1.4283,  1.9645,  1.0542,  1.4085,  1.4144,  2.2952,\n",
      "           1.6842],\n",
      "         [ 0.3199, -1.6968, -0.8137, -2.2574, -1.8903, -1.8328, -1.0343,\n",
      "          -1.1742],\n",
      "         [-1.1227, -2.7836, -2.1747, -3.3217, -3.0883, -2.8250, -2.0896,\n",
      "          -2.3296],\n",
      "         [-1.8200, -3.1838, -2.7163, -3.6368, -3.4810, -3.2250, -2.4768,\n",
      "          -2.8203],\n",
      "         [-1.9634, -3.2863, -2.7631, -3.6993, -3.6085, -3.2637, -2.5207,\n",
      "          -2.8866],\n",
      "         [-2.1115, -3.4652, -2.8825, -3.8067, -3.7851, -3.3691, -2.6434,\n",
      "          -3.0421],\n",
      "         [-2.3113, -3.5464, -3.0424, -3.8861, -3.9238, -3.4314, -2.7672,\n",
      "          -3.2404],\n",
      "         [-2.3341, -3.5474, -3.0613, -3.8874, -3.9222, -3.4417, -2.7757,\n",
      "          -3.2541],\n",
      "         [-2.3265, -3.5434, -3.0564, -3.8876, -3.9239, -3.4384, -2.7712,\n",
      "          -3.2511],\n",
      "         [-2.3532, -3.5239, -3.0791, -3.8769, -3.9103, -3.4385, -2.7714,\n",
      "          -3.2676],\n",
      "         [-2.3582, -3.5113, -3.0839, -3.8674, -3.9008, -3.4322, -2.7661,\n",
      "          -3.2703],\n",
      "         [-2.3518, -3.4990, -3.0746, -3.8534, -3.8849, -3.4202, -2.7563,\n",
      "          -3.2582],\n",
      "         [-2.3374, -3.5034, -3.0614, -3.8475, -3.8793, -3.4097, -2.7544,\n",
      "          -3.2380],\n",
      "         [-2.2797, -3.4786, -3.0044, -3.8023, -3.8466, -3.3706, -2.7286,\n",
      "          -3.1910],\n",
      "         [-2.1944, -3.3083, -2.9010, -3.6600, -3.6820, -3.2232, -2.5485,\n",
      "          -3.1131],\n",
      "         [-2.2177, -3.4617, -2.9337, -3.7496, -3.7858, -3.3185, -2.7014,\n",
      "          -3.0982],\n",
      "         [-2.1121, -3.3582, -2.8455, -3.6470, -3.6512, -3.1944, -2.6073,\n",
      "          -2.9343],\n",
      "         [-2.2314, -3.2972, -2.8842, -3.5761, -3.6209, -3.1513, -2.6008,\n",
      "          -2.9974],\n",
      "         [-2.1557, -2.9302, -2.6475, -3.1382, -3.2435, -2.7684, -2.3559,\n",
      "          -2.7745]]], grad_fn=<ViewBackward0>)\n",
      "tensor([[1., 0., 0., 0., 0., 0., 0., 0.]])\n"
     ]
    }
   ],
   "source": [
    "#print(net(validation_x[1:2, :, :]), validation_y[1:2, 0, :])\n",
    "print(net(validation_x[1:2, :, :]))\n",
    "print(validation_y[1:2, 0, :])"
   ]
  },
  {
   "cell_type": "code",
   "execution_count": null,
   "metadata": {},
   "outputs": [],
   "source": []
  },
  {
   "cell_type": "code",
   "execution_count": null,
   "metadata": {},
   "outputs": [],
   "source": []
  },
  {
   "cell_type": "markdown",
   "metadata": {},
   "source": [
    "performance history\n",
    "####\n",
    "\n",
    "3 linear layers: loss: jittery around 1.1. valdiation loss: jittery around 0.6. single shot failed\n",
    "1 linear, 1 lstm, 1 linear: loss around 1.3 validation loss: jittery around 0.7, single shot works\n",
    "1 conv1d, 1lstm, 1 linear: loss around 0.6, validation loss: around 0.6, single shot\n",
    "1 conv2d (flattened), 1lstm, 1linear, 1softmax: loss around 1.8, validation loss 1.3. 50% training success"
   ]
  },
  {
   "cell_type": "code",
   "execution_count": 345,
   "metadata": {},
   "outputs": [
    {
     "name": "stdout",
     "output_type": "stream",
     "text": [
      "torch.Size([100000, 330, 2]) torch.Size([100000, 330, 8])\n"
     ]
    },
    {
     "ename": "RuntimeError",
     "evalue": "Boolean value of Tensor with more than one value is ambiguous",
     "output_type": "error",
     "traceback": [
      "\u001b[0;31m---------------------------------------------------------------------------\u001b[0m",
      "\u001b[0;31mRuntimeError\u001b[0m                              Traceback (most recent call last)",
      "Cell \u001b[0;32mIn[345], line 10\u001b[0m\n\u001b[1;32m      8\u001b[0m corect \u001b[38;5;241m=\u001b[39m \u001b[38;5;241m0\u001b[39m\n\u001b[1;32m      9\u001b[0m \u001b[38;5;28;01mfor\u001b[39;00m sample \u001b[38;5;129;01min\u001b[39;00m \u001b[38;5;28mrange\u001b[39m(n_samples):\n\u001b[0;32m---> 10\u001b[0m     \u001b[38;5;28;01mif\u001b[39;00m validation_y[sample, \u001b[38;5;241m0\u001b[39m, :]\u001b[38;5;241m.\u001b[39margmax(dim\u001b[38;5;241m=\u001b[39m\u001b[38;5;241m0\u001b[39m) \u001b[38;5;241m==\u001b[39m Y_pred[sample]\u001b[38;5;241m.\u001b[39margmax(dim\u001b[38;5;241m=\u001b[39m\u001b[38;5;241m0\u001b[39m):\n\u001b[1;32m     11\u001b[0m         corect \u001b[38;5;241m+\u001b[39m\u001b[38;5;241m=\u001b[39m \u001b[38;5;241m1\u001b[39m\n\u001b[1;32m     12\u001b[0m     \u001b[38;5;66;03m#Y_true = torch.argmax(validation_y[:, :, :], dim=2)\u001b[39;00m\n\u001b[1;32m     13\u001b[0m     \u001b[38;5;66;03m#print(Y_true)\u001b[39;00m\n",
      "\u001b[0;31mRuntimeError\u001b[0m: Boolean value of Tensor with more than one value is ambiguous"
     ]
    }
   ],
   "source": [
    "# validation_set percent right prediction\n",
    "\n",
    "with torch.no_grad():\n",
    "    n_samples = 1000\n",
    "    validation_x, validation_y = get_time_series_batches(X_train, Y_train, n_samples, block_size)\n",
    "    print(validation_x.shape, validation_y.shape)\n",
    "    Y_pred = net(validation_x)\n",
    "    corect = 0\n",
    "    for sample in range(n_samples):\n",
    "        if validation_y[sample, 0, :].argmax(dim=0) == Y_pred[sample].argmax(dim=0)[0]:\n",
    "            corect += 1\n",
    "        #Y_true = torch.argmax(validation_y[:, :, :], dim=2)\n",
    "        #print(Y_true)\n",
    "    print(corect / n_samples)"
   ]
  },
  {
   "cell_type": "code",
   "execution_count": null,
   "metadata": {},
   "outputs": [],
   "source": []
  },
  {
   "cell_type": "code",
   "execution_count": 274,
   "metadata": {},
   "outputs": [
    {
     "name": "stdout",
     "output_type": "stream",
     "text": [
      "{0, 1, 2, 3, 4, 5, 6, 7}\n"
     ]
    }
   ],
   "source": [
    "argmaxes = set()\n",
    "for x in Y_train:\n",
    "    argmaxes.add(x.argmax().item())\n",
    "print(argmaxes)"
   ]
  }
 ],
 "metadata": {
  "kernelspec": {
   "display_name": "base",
   "language": "python",
   "name": "python3"
  },
  "language_info": {
   "codemirror_mode": {
    "name": "ipython",
    "version": 3
   },
   "file_extension": ".py",
   "mimetype": "text/x-python",
   "name": "python",
   "nbconvert_exporter": "python",
   "pygments_lexer": "ipython3",
   "version": "3.11.5"
  }
 },
 "nbformat": 4,
 "nbformat_minor": 2
}
