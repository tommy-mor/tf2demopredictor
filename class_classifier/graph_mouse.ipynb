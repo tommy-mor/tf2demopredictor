{
 "cells": [
  {
   "cell_type": "code",
   "execution_count": 4,
   "metadata": {},
   "outputs": [],
   "source": [
    "import torch"
   ]
  },
  {
   "cell_type": "code",
   "execution_count": 52,
   "metadata": {},
   "outputs": [],
   "source": [
    "import pandas as pd\n",
    "\n",
    "frames = []\n",
    "for f in ['file1.txt', 'file2.txt', 'file3.txt', 'file4.txt', 'file5.txt', 'file6.txt', 'file7.txt', 'file8.txt']:\n",
    "    frames.append(pd.read_csv(f, sep=',', header=None, skiprows=1))\n",
    "\n",
    "data = pd.concat(frames)"
   ]
  },
  {
   "cell_type": "code",
   "execution_count": null,
   "metadata": {},
   "outputs": [],
   "source": []
  },
  {
   "cell_type": "code",
   "execution_count": 17,
   "metadata": {},
   "outputs": [
    {
     "data": {
      "text/plain": [
       "<Axes: xlabel='0', ylabel='3'>"
      ]
     },
     "execution_count": 17,
     "metadata": {},
     "output_type": "execute_result"
    }
   ],
   "source": [
    "%matplotlib tk\n",
    "from matplotlib import pyplot as plt\n",
    "size = 600_000\n",
    "start = 200_100\n",
    "data[start:start+size].plot.scatter(x=0, y=3, s=[.01] * size)"
   ]
  },
  {
   "cell_type": "code",
   "execution_count": 53,
   "metadata": {},
   "outputs": [
    {
     "data": {
      "text/plain": [
       "({' sniper': 0,\n",
       "  ' scout': 1,\n",
       "  ' engineer': 2,\n",
       "  ' heavy': 3,\n",
       "  ' pyro': 4,\n",
       "  ' spy': 5,\n",
       "  ' soldier': 6,\n",
       "  ' medic': 7,\n",
       "  ' demoman': 8},\n",
       " {0: ' sniper',\n",
       "  1: ' scout',\n",
       "  2: ' engineer',\n",
       "  3: ' heavy',\n",
       "  4: ' pyro',\n",
       "  5: ' spy',\n",
       "  6: ' soldier',\n",
       "  7: ' medic',\n",
       "  8: ' demoman'})"
      ]
     },
     "execution_count": 53,
     "metadata": {},
     "output_type": "execute_result"
    }
   ],
   "source": [
    "#X = torch.tensor([data[2], data[3]]).float()\n",
    "data = data[data[1] != ' other']\n",
    "\n",
    "classes = data[1].unique()\n",
    "ctoi = {c: i for i, c in enumerate(classes)}\n",
    "itoc = {i: c for i, c in enumerate(classes)}\n",
    "\n",
    "X = torch.tensor(data[[2, 3]].values).float()\n",
    "\n",
    "#Y = torch.tensor([ctoi[c] for c in data[1]]).float()\n",
    "Y = torch.nn.functional.one_hot(torch.tensor([ctoi[c] for c in data[1]]), len(classes)).float()\n",
    "ctoi, itoc"
   ]
  },
  {
   "cell_type": "code",
   "execution_count": 54,
   "metadata": {},
   "outputs": [
    {
     "data": {
      "text/plain": [
       "(torch.Size([3300478, 2]), torch.Size([3300478, 9]))"
      ]
     },
     "execution_count": 54,
     "metadata": {},
     "output_type": "execute_result"
    }
   ],
   "source": [
    "X.shape, Y.shape"
   ]
  },
  {
   "cell_type": "code",
   "execution_count": 55,
   "metadata": {},
   "outputs": [
    {
     "data": {
      "text/plain": [
       "(tensor([[0., 0., 0., 0., 0., 0., 0., 0., 1.],\n",
       "         [0., 0., 0., 0., 0., 0., 0., 1., 0.],\n",
       "         [0., 0., 0., 0., 0., 0., 1., 0., 0.],\n",
       "         [0., 0., 0., 0., 0., 1., 0., 0., 0.],\n",
       "         [0., 0., 0., 0., 1., 0., 0., 0., 0.],\n",
       "         [0., 0., 0., 1., 0., 0., 0., 0., 0.],\n",
       "         [0., 0., 1., 0., 0., 0., 0., 0., 0.],\n",
       "         [0., 1., 0., 0., 0., 0., 0., 0., 0.],\n",
       "         [1., 0., 0., 0., 0., 0., 0., 0., 0.]]),\n",
       " tensor([ 150439,  108520,  813464,   65693,   24738,   48244,   52623, 1918728,\n",
       "          118029]))"
      ]
     },
     "execution_count": 55,
     "metadata": {},
     "output_type": "execute_result"
    }
   ],
   "source": [
    "# historgram of Y\n",
    "Y.unique(dim=0,return_counts=True)"
   ]
  },
  {
   "cell_type": "code",
   "execution_count": null,
   "metadata": {},
   "outputs": [],
   "source": []
  },
  {
   "cell_type": "code",
   "execution_count": null,
   "metadata": {},
   "outputs": [],
   "source": []
  },
  {
   "cell_type": "code",
   "execution_count": 56,
   "metadata": {},
   "outputs": [
    {
     "data": {
      "text/plain": [
       "(torch.Size([2640382, 2]),\n",
       " torch.Size([2640382, 9]),\n",
       " torch.Size([660096, 2]),\n",
       " torch.Size([660096, 9]))"
      ]
     },
     "execution_count": 56,
     "metadata": {},
     "output_type": "execute_result"
    }
   ],
   "source": [
    "def split_data_batches(X, Y, ratio=0.8):\n",
    "    n = int(X.size(0) * ratio)\n",
    "    return (X[:n, :], Y[:n, :]), (X[n:, :], Y[n:, :])\n",
    "\n",
    "(X_train, Y_train), (X_test, Y_test) = split_data_batches(X, Y)\n",
    "\n",
    "X_train.shape, Y_train.shape, X_test.shape, Y_test.shape"
   ]
  },
  {
   "cell_type": "code",
   "execution_count": 57,
   "metadata": {},
   "outputs": [],
   "source": [
    "block_size = 66 * 15\n",
    "batch_size = 128\n",
    "\n",
    "# grab random blocks of data from the training set\n",
    "def get_time_series_batches(data, labels, batch_size, window_size):\n",
    "    num_samples = data.size(0)\n",
    "    num_windows = num_samples - window_size + 1\n",
    "    batch_indices = torch.randint(0, num_windows, (batch_size,))\n",
    "    xs = []\n",
    "    ys = []\n",
    "    for idx in batch_indices:\n",
    "        x = data[idx:idx+window_size, :]\n",
    "        y = labels[idx:idx+window_size, :]\n",
    "\n",
    "        xs.append(x)\n",
    "        ys.append(y)\n",
    "        \n",
    "\n",
    "    return torch.stack(xs), torch.stack(ys)\n"
   ]
  },
  {
   "cell_type": "code",
   "execution_count": null,
   "metadata": {},
   "outputs": [],
   "source": []
  },
  {
   "cell_type": "code",
   "execution_count": 97,
   "metadata": {},
   "outputs": [],
   "source": [
    "class Net(torch.nn.Module):\n",
    "    def __init__(self):\n",
    "        super(Net, self).__init__()\n",
    "        #self.fc2 = torch.nn.LSTM(block_size * 2, 50, 2, batch_first=True, bidirectional=True)\n",
    "        # expects B x C x T\n",
    "        self.fc1 = torch.nn.Conv1d(2, 100, 66, stride=66)\n",
    "        self.fc2 = torch.nn.Conv1d(100, 50, 3)\n",
    "        self.drop = torch.nn.Dropout(0.75)\n",
    "        #self.pool = torch.nn.MaxPool1d(2)\n",
    "        self.flatten = torch.nn.Flatten()\n",
    "\n",
    "        # input, hidden, layers\n",
    "        #self.lstm = torch.nn.LSTM(650, 100, 2, batch_first=True, bidirectional=False)\n",
    "        self.fc3 = torch.nn.Linear(650, 50)\n",
    "        self.fc4 = torch.nn.Linear(50, Y.shape[1])\n",
    "        #self.last = torch.nn.Softmax()\n",
    "\n",
    "    def forward(self, x):\n",
    "        x = x.view(-1, 2, block_size)\n",
    "        #x = x.reshape(-1, block_size * 2)\n",
    "        x = self.fc1(x)\n",
    "        x = torch.relu(x)\n",
    "        x = self.fc2(x)\n",
    "        x = torch.relu(x)\n",
    "        #x = self.pool(x)\n",
    "        #x = self.drop(x)\n",
    "        x = self.flatten(x)\n",
    "        \n",
    "        #x,_ = self.lstm(x)\n",
    "        #x = torch.relu(x)\n",
    "\n",
    "        x = torch.relu(self.fc3(x))\n",
    "        x = self.fc4(x)\n",
    "        #x = torch.softmax(x, dim=1)\n",
    "        #x = self.last(x)\n",
    "        return x\n",
    "    \n",
    "net = Net()\n",
    "loss = torch.nn.CrossEntropyLoss()\n",
    "optimizer = torch.optim.Adam(net.parameters(), lr=0.0001)"
   ]
  },
  {
   "cell_type": "code",
   "execution_count": 98,
   "metadata": {},
   "outputs": [],
   "source": [
    "losses = []\n",
    "validation_losses = []"
   ]
  },
  {
   "cell_type": "code",
   "execution_count": null,
   "metadata": {},
   "outputs": [],
   "source": []
  },
  {
   "cell_type": "code",
   "execution_count": 99,
   "metadata": {},
   "outputs": [
    {
     "name": "stdout",
     "output_type": "stream",
     "text": [
      "Epoch 0: 2.2764885425567627\n",
      "Epoch 100: 2.137543201446533\n",
      "Epoch 200: 2.1844096183776855\n",
      "Epoch 300: 1.8719552755355835\n"
     ]
    }
   ],
   "source": [
    "optimizer.lr = 0.0001\n",
    "for epoch in range(1000):\n",
    "    optimizer.zero_grad()\n",
    "    X_batch, Y_batch = get_time_series_batches(X_train, Y_train, batch_size, block_size)\n",
    "    Y_pred = net(X_batch)\n",
    "    Y_batch = Y_batch[:, -1, :]\n",
    "    #Y_pred = Y_pred.view(-1, Y.shape[1])\n",
    "\n",
    "    \n",
    "    #print(X_batch.shape, Y_batch.shape, Y_pred.shape)\n",
    "    l = loss(Y_pred, Y_batch)\n",
    "    l.backward()\n",
    "    optimizer.step()\n",
    "    losses.append(l.item())\n",
    "    if epoch % 100 == 0:\n",
    "        print(f'Epoch {epoch}: {l.item()}')\n",
    "\n",
    "    #print(Y_batch[:, :].argmax(dim=1).unique())\n",
    "    with torch.no_grad():\n",
    "        X_batch, Y_batch = get_time_series_batches(X_test, Y_test, batch_size, block_size)\n",
    "        Y_pred = net(X_batch)\n",
    "       # print(Y_pred.shape, Y_batch.shape)\n",
    "        #Y_pred = Y_pred.view(-1, Y.shape[1])\n",
    "        Y_batch = Y_batch[:, -1, :]\n",
    "        #print(Y_pred.shape, Y_batch.shape)\n",
    "\n",
    "        #Y_batch = Y_batch[:, 0, :]\n",
    "        l = loss(Y_pred, Y_batch)\n",
    "        validation_losses.append(l.item())"
   ]
  },
  {
   "cell_type": "code",
   "execution_count": 93,
   "metadata": {},
   "outputs": [
    {
     "data": {
      "text/plain": [
       "[<matplotlib.lines.Line2D at 0x2b4ef86d0>]"
      ]
     },
     "execution_count": 93,
     "metadata": {},
     "output_type": "execute_result"
    },
    {
     "data": {
      "image/png": "[encoded data removed]",
      "text/plain": [
       "<Figure size 640x480 with 1 Axes>"
      ]
     },
     "metadata": {},
     "output_type": "display_data"
    }
   ],
   "source": [
    "from matplotlib import pyplot as plt\n",
    "plt.plot(torch.tensor(losses).reshape(-1,1).mean(dim=(1)), label='loss')\n",
    "plt.plot(torch.tensor(validation_losses).reshape(-1,1).mean(dim=(1)), label='vloss', color='red')"
   ]
  },
  {
   "cell_type": "code",
   "execution_count": null,
   "metadata": {},
   "outputs": [],
   "source": []
  },
  {
   "cell_type": "code",
   "execution_count": 94,
   "metadata": {},
   "outputs": [
    {
     "name": "stdout",
     "output_type": "stream",
     "text": [
      "tensor([[2.8669e-31, 1.0000e+00, 1.4212e-29, 5.3926e-29, 7.6315e-25, 1.3775e-41,\n",
      "         4.6328e-28, 1.7594e-31, 5.0148e-25]], grad_fn=<SoftmaxBackward0>)\n",
      "tensor([[0., 0., 0., 0., 0., 0., 1., 0., 0.]])\n"
     ]
    }
   ],
   "source": [
    "#print(net(validation_x[1:2, :, :]), validation_y[1:2, 0, :])\n",
    "print(net(validation_x[1:2, :, :]))\n",
    "print(validation_y[1:2, 0, :])"
   ]
  },
  {
   "cell_type": "markdown",
   "metadata": {},
   "source": [
    "performance history\n",
    "####\n",
    "\n",
    "  * 3 linear layers: loss: jittery around 1.1. valdiation loss: jittery around 0.6. single shot failed\n",
    "  * 1 linear, 1 lstm, 1 linear: loss around 1.3 validation loss: jittery around 0.7, single shot works\n",
    "  * 1 conv1d, 1lstm, 1 linear: loss around 0.6, validation loss: around 0.6, single shot\n",
    "  * 1 conv2d (flattened), 1lstm, 1linear, 1softmax: loss around 1.8, validation loss 1.3. 50% training success\n",
    "  * 1 conv2d, 1 lstm, 1 linear, loss around 0.2, validation loss 0.2, 80% training success\n",
    "  * 1 conv2d(5), 1 lstm, 1 linear, loss around 0.2, validation loss 0.2, 80% training success\n",
    "  * 1 conv2d(20), 1 lstm, 1 linear, loss around 0.2, validation loss 0.2, 70% training success\n",
    "  * 1 conv2d(3), 1 lstm(200, 2), 1 linear, loss around 0.2, validation loss 0.2, 70% training success\n",
    "\n",
    "  * 2 conv1d, dropout, flatten, 2 dense. loss around 1.0, 70% training, 30% validation\n",
    "\n",
    "4 demos:\n",
    "  validation 34, training 63\n",
    "6 demos: \n",
    "  validation 55, training 61\n"
   ]
  },
  {
   "cell_type": "code",
   "execution_count": 96,
   "metadata": {},
   "outputs": [
    {
     "name": "stdout",
     "output_type": "stream",
     "text": [
      "torch.Size([10000, 990, 2]) torch.Size([10000, 990, 9])\n",
      "torch.Size([10000, 9])\n",
      "0.5757\n",
      "tensor([1, 6])\n",
      "tensor([0, 1, 2, 3, 4, 5, 6])\n"
     ]
    }
   ],
   "source": [
    "# validation_set percent right prediction\n",
    "\n",
    "with torch.no_grad():\n",
    "    n_samples = 10000\n",
    "    #validation_x, validation_y = get_time_series_batches(X_train, Y_train, n_samples, block_size)\n",
    "    #validation_x, validation_y = get_time_series_batches(X_test, Y_test, n_samples, block_size)\n",
    "    print(validation_x.shape, validation_y.shape)\n",
    "    Y_pred = net(validation_x)\n",
    "    print(Y_pred.shape)\n",
    "    for conv in range(1):\n",
    "        corect = 0\n",
    "        for sample in range(n_samples):\n",
    "            pred = Y_pred[sample]\n",
    "            val = validation_y[sample][0]\n",
    "            #print(pred, val)\n",
    "            if pred.argmax() == val.argmax():\n",
    "                corect += 1\n",
    "            #Y_true = torch.argmax(validation_y[:, :, :], dim=2)\n",
    "            #print(Y_true)\n",
    "        print(corect / n_samples)\n",
    "    print(Y_pred.argmax(dim=1).unique())\n",
    "    print(validation_y[:, -1, :].argmax(dim=1).unique())"
   ]
  },
  {
   "cell_type": "code",
   "execution_count": null,
   "metadata": {},
   "outputs": [],
   "source": []
  },
  {
   "cell_type": "code",
   "execution_count": null,
   "metadata": {},
   "outputs": [],
   "source": []
  },
  {
   "cell_type": "code",
   "execution_count": null,
   "metadata": {},
   "outputs": [],
   "source": []
  },
  {
   "cell_type": "code",
   "execution_count": 377,
   "metadata": {},
   "outputs": [
    {
     "name": "stdout",
     "output_type": "stream",
     "text": [
      "{0, 1, 2, 3, 4, 5, 6, 7}\n"
     ]
    }
   ],
   "source": [
    "argmaxes = set()\n",
    "for x in Y_train:\n",
    "    argmaxes.add(x.argmax().item())\n",
    "print(argmaxes)"
   ]
  },
  {
   "cell_type": "code",
   "execution_count": 806,
   "metadata": {},
   "outputs": [
    {
     "data": {
      "text/plain": [
       "0.012345679012345678"
      ]
     },
     "execution_count": 806,
     "metadata": {},
     "output_type": "execute_result"
    }
   ],
   "source": [
    "1/ (9 * 9)"
   ]
  }
 ],
 "metadata": {
  "kernelspec": {
   "display_name": "base",
   "language": "python",
   "name": "python3"
  },
  "language_info": {
   "codemirror_mode": {
    "name": "ipython",
    "version": 3
   },
   "file_extension": ".py",
   "mimetype": "text/x-python",
   "name": "python",
   "nbconvert_exporter": "python",
   "pygments_lexer": "ipython3",
   "version": "3.11.5"
  }
 },
 "nbformat": 4,
 "nbformat_minor": 2
}
