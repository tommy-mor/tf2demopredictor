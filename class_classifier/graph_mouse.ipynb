{
 "cells": [
  {
   "cell_type": "code",
   "execution_count": 1,
   "metadata": {},
   "outputs": [],
   "source": [
    "import torch"
   ]
  },
  {
   "cell_type": "code",
   "execution_count": 2,
   "metadata": {},
   "outputs": [],
   "source": [
    "f = open('file1.txt', 'r').read().splitlines()[1:]"
   ]
  },
  {
   "cell_type": "code",
   "execution_count": 3,
   "metadata": {},
   "outputs": [],
   "source": [
    "import numpy as np\n",
    "import pandas as pd\n",
    "data = pd.DataFrame([(int(x1), x2, float(x3), float(x4)) for (x1,x2,x3,x4) in (x.split(', ') for x in f)])"
   ]
  },
  {
   "cell_type": "code",
   "execution_count": 4,
   "metadata": {},
   "outputs": [],
   "source": [
    "from matplotlib import pyplot as plt\n",
    "#data.plot.scatter(x=0, y=3, s=[.01] * len(data))"
   ]
  },
  {
   "cell_type": "code",
   "execution_count": 5,
   "metadata": {},
   "outputs": [
    {
     "data": {
      "text/plain": [
       "({'other': 0,\n",
       "  'sniper': 1,\n",
       "  'scout': 2,\n",
       "  'engineer': 3,\n",
       "  'heavy': 4,\n",
       "  'pyro': 5,\n",
       "  'spy': 6,\n",
       "  'soldier': 7},\n",
       " {0: 'other',\n",
       "  1: 'sniper',\n",
       "  2: 'scout',\n",
       "  3: 'engineer',\n",
       "  4: 'heavy',\n",
       "  5: 'pyro',\n",
       "  6: 'spy',\n",
       "  7: 'soldier'})"
      ]
     },
     "execution_count": 5,
     "metadata": {},
     "output_type": "execute_result"
    }
   ],
   "source": [
    "classes = data[1].unique()\n",
    "ctoi = {c: i for i, c in enumerate(classes)}\n",
    "itoc = {i: c for i, c in enumerate(classes)}\n",
    "ctoi, itoc"
   ]
  },
  {
   "cell_type": "code",
   "execution_count": 6,
   "metadata": {},
   "outputs": [],
   "source": [
    "X = torch.tensor([data[2], data[3]]).float()\n",
    "\n",
    "#Y = torch.tensor([ctoi[c] for c in data[1]]).float()\n",
    "Y = torch.nn.functional.one_hot(torch.tensor([ctoi[c] for c in data[1]]), len(classes)).float()\n",
    "\n"
   ]
  },
  {
   "cell_type": "code",
   "execution_count": 7,
   "metadata": {},
   "outputs": [
    {
     "data": {
      "text/plain": [
       "tensor([1., 0., 0., 0., 0., 0., 0., 0.])"
      ]
     },
     "execution_count": 7,
     "metadata": {},
     "output_type": "execute_result"
    }
   ],
   "source": [
    "Y[1]"
   ]
  },
  {
   "cell_type": "code",
   "execution_count": null,
   "metadata": {},
   "outputs": [],
   "source": []
  },
  {
   "cell_type": "code",
   "execution_count": 53,
   "metadata": {},
   "outputs": [
    {
     "data": {
      "text/plain": [
       "(torch.Size([2, 1337384]),\n",
       " torch.Size([1337384, 8]),\n",
       " torch.Size([2, 334346]),\n",
       " torch.Size([334346, 8]))"
      ]
     },
     "execution_count": 53,
     "metadata": {},
     "output_type": "execute_result"
    }
   ],
   "source": [
    "def split_data_batches(X, Y, ratio=0.8):\n",
    "    n = int(X.size(1) * ratio)\n",
    "    return (X[:, :n], Y[:n, :]), (X[:, n:], Y[n:, :])\n",
    "\n",
    "(X_train, Y_train), (X_test, Y_test) = split_data_batches(X, Y)\n",
    "\n",
    "X_train.shape, Y_train.shape, X_test.shape, Y_test.shape"
   ]
  },
  {
   "cell_type": "code",
   "execution_count": 55,
   "metadata": {},
   "outputs": [],
   "source": [
    "block_size = 66 * 5\n",
    "batch_size = 32\n",
    "\n",
    "# grab random blocks of data from the trainign set\n",
    "def get_time_series_batches(data, labels, batch_size, window_size):\n",
    "    num_samples = data.size(1)\n",
    "    num_windows = num_samples - window_size + 1\n",
    "    batch_indices = torch.randint(0, num_windows, (batch_size,))\n",
    "    xs = []\n",
    "    ys = []\n",
    "    for idx in batch_indices:\n",
    "        x = data[:, idx:idx+window_size].T\n",
    "        y = labels[idx:idx+window_size, :]\n",
    "\n",
    "        xs.append(x)\n",
    "        ys.append(y)\n",
    "        \n",
    "\n",
    "    return torch.stack(xs), torch.stack(ys)\n"
   ]
  },
  {
   "cell_type": "code",
   "execution_count": 56,
   "metadata": {},
   "outputs": [],
   "source": [
    "class Net(torch.nn.Module):\n",
    "    def __init__(self):\n",
    "        super(Net, self).__init__()\n",
    "        self.fc1 = torch.nn.Linear(block_size * 2, 100)\n",
    "        self.fc2 = torch.nn.Linear(100, 100)\n",
    "        self.fc3 = torch.nn.Linear(100, Y.shape[1])\n",
    "\n",
    "    def forward(self, x):\n",
    "        x = x.reshape(-1, block_size * 2)\n",
    "        x = torch.relu(self.fc1(x))\n",
    "        x = torch.relu(self.fc2(x))\n",
    "        x = self.fc3(x)\n",
    "        return x\n",
    "    \n",
    "net = Net()\n",
    "loss = torch.nn.CrossEntropyLoss()\n",
    "optimizer = torch.optim.Adam(net.parameters(), lr=0.001)"
   ]
  },
  {
   "cell_type": "code",
   "execution_count": 57,
   "metadata": {},
   "outputs": [
    {
     "name": "stdout",
     "output_type": "stream",
     "text": [
      "torch.Size([32, 8]) torch.Size([32, 330, 8])\n",
      "Epoch 0, loss 3.5641918182373047, validation loss 0.03449944034218788\n",
      "torch.Size([32, 8]) torch.Size([32, 330, 8])\n",
      "Epoch 1, loss 8.692159652709961, validation loss 28.554826736450195\n",
      "torch.Size([32, 8]) torch.Size([32, 330, 8])\n",
      "Epoch 2, loss 29.949996948242188, validation loss 0.11200404912233353\n",
      "torch.Size([32, 8]) torch.Size([32, 330, 8])\n",
      "Epoch 3, loss 11.166413307189941, validation loss 0.01115926168859005\n",
      "torch.Size([32, 8]) torch.Size([32, 330, 8])\n",
      "Epoch 4, loss 9.728019714355469, validation loss 0.13150426745414734\n",
      "torch.Size([32, 8]) torch.Size([32, 330, 8])\n",
      "Epoch 5, loss 5.143156051635742, validation loss 13.794783592224121\n",
      "torch.Size([32, 8]) torch.Size([32, 330, 8])\n",
      "Epoch 6, loss 14.633336067199707, validation loss 12.50705337524414\n",
      "torch.Size([32, 8]) torch.Size([32, 330, 8])\n",
      "Epoch 7, loss 11.385908126831055, validation loss 3.4647536277770996\n",
      "torch.Size([32, 8]) torch.Size([32, 330, 8])\n",
      "Epoch 8, loss 3.133667469024658, validation loss 0.93731689453125\n",
      "torch.Size([32, 8]) torch.Size([32, 330, 8])\n",
      "Epoch 9, loss 3.2331290245056152, validation loss 1.4194750785827637\n",
      "torch.Size([32, 8]) torch.Size([32, 330, 8])\n",
      "Epoch 10, loss 4.8185224533081055, validation loss 1.0969072580337524\n",
      "torch.Size([32, 8]) torch.Size([32, 330, 8])\n",
      "Epoch 11, loss 10.131667137145996, validation loss 0.12220248579978943\n",
      "torch.Size([32, 8]) torch.Size([32, 330, 8])\n",
      "Epoch 12, loss 5.714382171630859, validation loss 0.511728823184967\n",
      "torch.Size([32, 8]) torch.Size([32, 330, 8])\n",
      "Epoch 13, loss 3.7091057300567627, validation loss 2.3123443126678467\n",
      "torch.Size([32, 8]) torch.Size([32, 330, 8])\n",
      "Epoch 14, loss 6.118833541870117, validation loss 3.8237648010253906\n",
      "torch.Size([32, 8]) torch.Size([32, 330, 8])\n",
      "Epoch 15, loss 4.7752838134765625, validation loss 0.6137327551841736\n",
      "torch.Size([32, 8]) torch.Size([32, 330, 8])\n",
      "Epoch 16, loss 3.7189908027648926, validation loss 0.17643040418624878\n",
      "torch.Size([32, 8]) torch.Size([32, 330, 8])\n",
      "Epoch 17, loss 4.5973029136657715, validation loss 0.192050501704216\n",
      "torch.Size([32, 8]) torch.Size([32, 330, 8])\n",
      "Epoch 18, loss 4.869634628295898, validation loss 3.785994529724121\n",
      "torch.Size([32, 8]) torch.Size([32, 330, 8])\n",
      "Epoch 19, loss 4.5264434814453125, validation loss 4.814964294433594\n",
      "torch.Size([32, 8]) torch.Size([32, 330, 8])\n",
      "Epoch 20, loss 4.962826251983643, validation loss 2.7112889289855957\n",
      "torch.Size([32, 8]) torch.Size([32, 330, 8])\n",
      "Epoch 21, loss 2.854119300842285, validation loss 1.8718425035476685\n",
      "torch.Size([32, 8]) torch.Size([32, 330, 8])\n",
      "Epoch 22, loss 5.527905464172363, validation loss 0.9945260286331177\n",
      "torch.Size([32, 8]) torch.Size([32, 330, 8])\n",
      "Epoch 23, loss 5.1868062019348145, validation loss 0.5526368618011475\n",
      "torch.Size([32, 8]) torch.Size([32, 330, 8])\n",
      "Epoch 24, loss 3.48542857170105, validation loss 0.8010309934616089\n",
      "torch.Size([32, 8]) torch.Size([32, 330, 8])\n",
      "Epoch 25, loss 2.5195000171661377, validation loss 1.4654746055603027\n",
      "torch.Size([32, 8]) torch.Size([32, 330, 8])\n",
      "Epoch 26, loss 1.5300061702728271, validation loss 4.7635064125061035\n",
      "torch.Size([32, 8]) torch.Size([32, 330, 8])\n",
      "Epoch 27, loss 3.249741315841675, validation loss 3.5542688369750977\n",
      "torch.Size([32, 8]) torch.Size([32, 330, 8])\n",
      "Epoch 28, loss 2.2797188758850098, validation loss 1.0595943927764893\n",
      "torch.Size([32, 8]) torch.Size([32, 330, 8])\n",
      "Epoch 29, loss 1.8948276042938232, validation loss 0.607566773891449\n",
      "torch.Size([32, 8]) torch.Size([32, 330, 8])\n",
      "Epoch 30, loss 1.815359354019165, validation loss 0.7283446192741394\n",
      "torch.Size([32, 8]) torch.Size([32, 330, 8])\n",
      "Epoch 31, loss 2.397188186645508, validation loss 0.6038618087768555\n",
      "torch.Size([32, 8]) torch.Size([32, 330, 8])\n",
      "Epoch 32, loss 2.1846134662628174, validation loss 1.0671683549880981\n",
      "torch.Size([32, 8]) torch.Size([32, 330, 8])\n",
      "Epoch 33, loss 1.3457744121551514, validation loss 1.7379326820373535\n",
      "torch.Size([32, 8]) torch.Size([32, 330, 8])\n",
      "Epoch 34, loss 2.2590718269348145, validation loss 2.669050693511963\n",
      "torch.Size([32, 8]) torch.Size([32, 330, 8])\n",
      "Epoch 35, loss 2.2343297004699707, validation loss 0.9407501220703125\n",
      "torch.Size([32, 8]) torch.Size([32, 330, 8])\n",
      "Epoch 36, loss 1.5847121477127075, validation loss 0.22242937982082367\n",
      "torch.Size([32, 8]) torch.Size([32, 330, 8])\n",
      "Epoch 37, loss 1.9636130332946777, validation loss 0.40543511509895325\n",
      "torch.Size([32, 8]) torch.Size([32, 330, 8])\n",
      "Epoch 38, loss 1.6093567609786987, validation loss 0.240897074341774\n",
      "torch.Size([32, 8]) torch.Size([32, 330, 8])\n",
      "Epoch 39, loss 1.9683496952056885, validation loss 1.4824457168579102\n",
      "torch.Size([32, 8]) torch.Size([32, 330, 8])\n",
      "Epoch 40, loss 1.8825803995132446, validation loss 3.0534636974334717\n",
      "torch.Size([32, 8]) torch.Size([32, 330, 8])\n",
      "Epoch 41, loss 1.633061170578003, validation loss 3.405489206314087\n",
      "torch.Size([32, 8]) torch.Size([32, 330, 8])\n",
      "Epoch 42, loss 2.672701835632324, validation loss 0.9286919832229614\n",
      "torch.Size([32, 8]) torch.Size([32, 330, 8])\n",
      "Epoch 43, loss 1.6683228015899658, validation loss 0.1199297308921814\n",
      "torch.Size([32, 8]) torch.Size([32, 330, 8])\n",
      "Epoch 44, loss 2.846818208694458, validation loss 0.210483580827713\n",
      "torch.Size([32, 8]) torch.Size([32, 330, 8])\n",
      "Epoch 45, loss 3.0044851303100586, validation loss 0.25631627440452576\n",
      "torch.Size([32, 8]) torch.Size([32, 330, 8])\n",
      "Epoch 46, loss 2.25454044342041, validation loss 1.5644619464874268\n",
      "torch.Size([32, 8]) torch.Size([32, 330, 8])\n",
      "Epoch 47, loss 1.5946637392044067, validation loss 2.337282657623291\n",
      "torch.Size([32, 8]) torch.Size([32, 330, 8])\n",
      "Epoch 48, loss 2.3802685737609863, validation loss 1.4577045440673828\n",
      "torch.Size([32, 8]) torch.Size([32, 330, 8])\n",
      "Epoch 49, loss 1.8903251886367798, validation loss 1.8555247783660889\n",
      "torch.Size([32, 8]) torch.Size([32, 330, 8])\n",
      "Epoch 50, loss 1.871140718460083, validation loss 1.100724697113037\n",
      "torch.Size([32, 8]) torch.Size([32, 330, 8])\n",
      "Epoch 51, loss 1.6565089225769043, validation loss 0.5805694460868835\n",
      "torch.Size([32, 8]) torch.Size([32, 330, 8])\n",
      "Epoch 52, loss 2.2289798259735107, validation loss 0.76385498046875\n",
      "torch.Size([32, 8]) torch.Size([32, 330, 8])\n",
      "Epoch 53, loss 1.6207610368728638, validation loss 1.0862135887145996\n",
      "torch.Size([32, 8]) torch.Size([32, 330, 8])\n",
      "Epoch 54, loss 2.630117416381836, validation loss 0.7917850017547607\n",
      "torch.Size([32, 8]) torch.Size([32, 330, 8])\n",
      "Epoch 55, loss 2.472506523132324, validation loss 0.4584730267524719\n",
      "torch.Size([32, 8]) torch.Size([32, 330, 8])\n",
      "Epoch 56, loss 2.2844667434692383, validation loss 0.48205244541168213\n",
      "torch.Size([32, 8]) torch.Size([32, 330, 8])\n",
      "Epoch 57, loss 2.0332961082458496, validation loss 0.7781097888946533\n",
      "torch.Size([32, 8]) torch.Size([32, 330, 8])\n",
      "Epoch 58, loss 1.4605634212493896, validation loss 1.2509653568267822\n",
      "torch.Size([32, 8]) torch.Size([32, 330, 8])\n",
      "Epoch 59, loss 1.5406968593597412, validation loss 1.7899625301361084\n",
      "torch.Size([32, 8]) torch.Size([32, 330, 8])\n",
      "Epoch 60, loss 1.9604929685592651, validation loss 1.2473375797271729\n",
      "torch.Size([32, 8]) torch.Size([32, 330, 8])\n",
      "Epoch 61, loss 1.3817721605300903, validation loss 1.380600094795227\n",
      "torch.Size([32, 8]) torch.Size([32, 330, 8])\n",
      "Epoch 62, loss 1.539976954460144, validation loss 0.8120180368423462\n",
      "torch.Size([32, 8]) torch.Size([32, 330, 8])\n",
      "Epoch 63, loss 1.443902850151062, validation loss 0.422176718711853\n",
      "torch.Size([32, 8]) torch.Size([32, 330, 8])\n",
      "Epoch 64, loss 2.2098777294158936, validation loss 0.36232295632362366\n",
      "torch.Size([32, 8]) torch.Size([32, 330, 8])\n",
      "Epoch 65, loss 1.650726556777954, validation loss 0.5831978917121887\n",
      "torch.Size([32, 8]) torch.Size([32, 330, 8])\n",
      "Epoch 66, loss 1.7540338039398193, validation loss 0.763473391532898\n",
      "torch.Size([32, 8]) torch.Size([32, 330, 8])\n",
      "Epoch 67, loss 2.0317986011505127, validation loss 1.571171522140503\n",
      "torch.Size([32, 8]) torch.Size([32, 330, 8])\n",
      "Epoch 68, loss 1.8352818489074707, validation loss 1.3048429489135742\n",
      "torch.Size([32, 8]) torch.Size([32, 330, 8])\n",
      "Epoch 69, loss 1.6235220432281494, validation loss 0.804446816444397\n",
      "torch.Size([32, 8]) torch.Size([32, 330, 8])\n",
      "Epoch 70, loss 1.6140477657318115, validation loss 0.7644232511520386\n",
      "torch.Size([32, 8]) torch.Size([32, 330, 8])\n",
      "Epoch 71, loss 1.7118110656738281, validation loss 0.7267279028892517\n",
      "torch.Size([32, 8]) torch.Size([32, 330, 8])\n",
      "Epoch 72, loss 1.5697593688964844, validation loss 0.6535813808441162\n",
      "torch.Size([32, 8]) torch.Size([32, 330, 8])\n",
      "Epoch 73, loss 1.637311577796936, validation loss 0.9593668580055237\n",
      "torch.Size([32, 8]) torch.Size([32, 330, 8])\n",
      "Epoch 74, loss 1.5035455226898193, validation loss 0.9676753282546997\n",
      "torch.Size([32, 8]) torch.Size([32, 330, 8])\n",
      "Epoch 75, loss 1.5905239582061768, validation loss 0.7414764165878296\n",
      "torch.Size([32, 8]) torch.Size([32, 330, 8])\n",
      "Epoch 76, loss 1.0276389122009277, validation loss 0.5355768203735352\n",
      "torch.Size([32, 8]) torch.Size([32, 330, 8])\n",
      "Epoch 77, loss 1.4974455833435059, validation loss 0.39579182863235474\n",
      "torch.Size([32, 8]) torch.Size([32, 330, 8])\n",
      "Epoch 78, loss 1.7031844854354858, validation loss 0.6071028709411621\n",
      "torch.Size([32, 8]) torch.Size([32, 330, 8])\n",
      "Epoch 79, loss 1.2284268140792847, validation loss 0.8300985097885132\n",
      "torch.Size([32, 8]) torch.Size([32, 330, 8])\n",
      "Epoch 80, loss 1.4981508255004883, validation loss 0.8618437051773071\n",
      "torch.Size([32, 8]) torch.Size([32, 330, 8])\n",
      "Epoch 81, loss 1.1582130193710327, validation loss 0.7882934212684631\n",
      "torch.Size([32, 8]) torch.Size([32, 330, 8])\n",
      "Epoch 82, loss 1.0690722465515137, validation loss 0.7558616399765015\n",
      "torch.Size([32, 8]) torch.Size([32, 330, 8])\n",
      "Epoch 83, loss 1.7510524988174438, validation loss 0.590634822845459\n",
      "torch.Size([32, 8]) torch.Size([32, 330, 8])\n",
      "Epoch 84, loss 1.7878464460372925, validation loss 0.5542008876800537\n",
      "torch.Size([32, 8]) torch.Size([32, 330, 8])\n",
      "Epoch 85, loss 1.3996291160583496, validation loss 0.7721050381660461\n",
      "torch.Size([32, 8]) torch.Size([32, 330, 8])\n",
      "Epoch 86, loss 1.399338722229004, validation loss 1.1118144989013672\n",
      "torch.Size([32, 8]) torch.Size([32, 330, 8])\n",
      "Epoch 87, loss 2.03920578956604, validation loss 0.8377719521522522\n",
      "torch.Size([32, 8]) torch.Size([32, 330, 8])\n",
      "Epoch 88, loss 1.6149115562438965, validation loss 0.42746347188949585\n",
      "torch.Size([32, 8]) torch.Size([32, 330, 8])\n",
      "Epoch 89, loss 1.9961531162261963, validation loss 0.260043203830719\n",
      "torch.Size([32, 8]) torch.Size([32, 330, 8])\n",
      "Epoch 90, loss 1.6256985664367676, validation loss 0.3602489233016968\n",
      "torch.Size([32, 8]) torch.Size([32, 330, 8])\n",
      "Epoch 91, loss 1.7561990022659302, validation loss 0.639228343963623\n",
      "torch.Size([32, 8]) torch.Size([32, 330, 8])\n",
      "Epoch 92, loss 1.7372446060180664, validation loss 0.9954527616500854\n",
      "torch.Size([32, 8]) torch.Size([32, 330, 8])\n",
      "Epoch 93, loss 1.345815658569336, validation loss 1.4811506271362305\n",
      "torch.Size([32, 8]) torch.Size([32, 330, 8])\n",
      "Epoch 94, loss 1.3877217769622803, validation loss 2.114591121673584\n",
      "torch.Size([32, 8]) torch.Size([32, 330, 8])\n",
      "Epoch 95, loss 1.33203125, validation loss 1.9585999250411987\n",
      "torch.Size([32, 8]) torch.Size([32, 330, 8])\n",
      "Epoch 96, loss 1.9394242763519287, validation loss 1.377121925354004\n",
      "torch.Size([32, 8]) torch.Size([32, 330, 8])\n",
      "Epoch 97, loss 1.8614726066589355, validation loss 0.8514964580535889\n",
      "torch.Size([32, 8]) torch.Size([32, 330, 8])\n",
      "Epoch 98, loss 1.4999865293502808, validation loss 0.716353178024292\n",
      "torch.Size([32, 8]) torch.Size([32, 330, 8])\n",
      "Epoch 99, loss 1.5759655237197876, validation loss 0.6745426654815674\n"
     ]
    }
   ],
   "source": [
    "for epoch in range(100):\n",
    "    x, y = get_time_series_batches(X_train, Y_train, batch_size, block_size)\n",
    "    optimizer.zero_grad()\n",
    "    out = net(x)\n",
    "    y_last = y[:, 0, :]\n",
    "    l = loss(out, y_last)\n",
    "    l.backward()\n",
    "    optimizer.step()\n",
    "\n",
    "    validation_x, validation_y = get_time_series_batches(X_test, Y_test, batch_size, block_size)\n",
    "    with torch.no_grad():\n",
    "        out = net(validation_x)\n",
    "        y_last = validation_y[:, 0, :]\n",
    "        lval = loss(out, y_last)\n",
    "\n",
    "        print(f'Epoch {epoch}, loss {l.item()}, validation loss {lval.item()}')"
   ]
  },
  {
   "cell_type": "code",
   "execution_count": null,
   "metadata": {},
   "outputs": [],
   "source": [
    "Y"
   ]
  },
  {
   "cell_type": "code",
   "execution_count": null,
   "metadata": {},
   "outputs": [],
   "source": []
  }
 ],
 "metadata": {
  "kernelspec": {
   "display_name": "base",
   "language": "python",
   "name": "python3"
  },
  "language_info": {
   "codemirror_mode": {
    "name": "ipython",
    "version": 3
   },
   "file_extension": ".py",
   "mimetype": "text/x-python",
   "name": "python",
   "nbconvert_exporter": "python",
   "pygments_lexer": "ipython3",
   "version": "3.11.5"
  }
 },
 "nbformat": 4,
 "nbformat_minor": 2
}
